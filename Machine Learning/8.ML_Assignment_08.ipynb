{
 "cells": [
  {
   "cell_type": "markdown",
   "id": "b2aa57f2",
   "metadata": {
    "id": "b2aa57f2"
   },
   "source": [
    "# Assignment 08 Solutions"
   ]
  },
  {
   "cell_type": "markdown",
   "id": "w9jqN0jDNi69",
   "metadata": {
    "id": "w9jqN0jDNi69"
   },
   "source": [
    "SUBMITTED BY: PARVEJ ANSARI"
   ]
  },
  {
   "cell_type": "markdown",
   "id": "19d4f3bd",
   "metadata": {
    "id": "19d4f3bd"
   },
   "source": [
    "##### 1. What exactly is a feature? Give an example to illustrate your point ?"
   ]
  },
  {
   "cell_type": "markdown",
   "id": "797d1cdb",
   "metadata": {
    "id": "797d1cdb"
   },
   "source": [
    "**Ans:** Features are the basic building blocks of datasets. The quality of the features in your dataset has a major impact on the quality of the insights you will gain when you use that dataset for machine learning. \n",
    "\n",
    "Additionally, different business problems within the same industry do not necessarily require the same features, which is why it is important to have a strong understanding of the business goals of your data science project.\n",
    "\n",
    "In machine learning and pattern recognition, a feature is an individual measurable property or characteristic of a phenomenon. Choosing informative, discriminating and independent features is a crucial element of effective algorithms in pattern recognition, classification and regression."
   ]
  },
  {
   "cell_type": "markdown",
   "id": "941bc9d9",
   "metadata": {
    "id": "941bc9d9"
   },
   "source": [
    "##### 2. What are the various circumstances in which feature construction is required ?"
   ]
  },
  {
   "cell_type": "markdown",
   "id": "08f0d0e7",
   "metadata": {
    "id": "08f0d0e7"
   },
   "source": [
    "**Ans:** The features in your data will directly influence the predictive models you use and the results you can achieve. Our results are dependent on many inter-dependent properties. We need great features that describe the structures inherent in your data. Better features means flexibility. The process of generating new variables (features) based on already existing variables is known as feature construction.\n",
    "\n",
    "Feature Construction is a useful process as it can add more information and give more insights of the data we are dealing with. It is done by transforming the numerical features into categorical features which is done while performing Binning. Also, feature construction is done by decomposing variables so that these new variables can be used in various machine learning algorithms such as the creation of Dummy Variables by performing Encoding. Other ways of constructing include deriving features from the pre-existing features and coming up with more meaningful features."
   ]
  },
  {
   "cell_type": "markdown",
   "id": "3a53a7ce",
   "metadata": {
    "id": "3a53a7ce"
   },
   "source": [
    "##### 3. Describe how nominal variables are encoded ?"
   ]
  },
  {
   "cell_type": "markdown",
   "id": "0b3b1d24",
   "metadata": {
    "id": "0b3b1d24"
   },
   "source": [
    "**Ans:** Nominal data is made of discrete values with no numerical relationship between the different categories —  mean and median are meaningless. Animal species is one example. For example, pig is not higher than bird and lower than fish. Ordinal or Label Encoding can be used to transform non-numerical labels into numerical labels (or nominal categorical variables). Numerical labels are always between 1 and the number of classes. The labels chosen for the categories have no relationship. So categories that have some ties or are close to each other lose such information after encoding. The first unique value in your column becomes 1, the second becomes 2, the third becomes 3, and so on."
   ]
  },
  {
   "cell_type": "markdown",
   "id": "c4de4555",
   "metadata": {
    "id": "c4de4555"
   },
   "source": [
    "##### 4. Describe how numeric features are converted to categorical features ?"
   ]
  },
  {
   "cell_type": "markdown",
   "id": "7a2ce760",
   "metadata": {
    "id": "7a2ce760"
   },
   "source": [
    "**Ans:** Numeric Features can be converted to Categorical Features using Binning. Discretization: It is the process of transforming continuous variables into categorical variables by creating a set of intervals, which are contiguous, that span over the range of the variable’s values. It is also known as “Binning”, where the bin is an analogous name for an interval.\n",
    "\n",
    "Benefits of this method are:\n",
    "1. Handles the Outliers in a better way.\n",
    "2. Improves the value spread.\n",
    "3. Minimize the effects of small observation errors.\n",
    "\n",
    " ables.\n",
    "\n",
    " \n",
    "Techniques to Encode Numerical Columns:\n",
    "\n",
    "(a) Equal width binning: It is also known as “Uniform Binning” since the width of all the intervals is the same. The algorithm divides the data into N intervals of equal size. The width of intervals is:\n",
    "\n",
    "   w=(max-min)/N\n",
    "\n",
    "Therefore, the interval boundaries are:[min+w], [min+2w], [min+3w],..., [min+(N-1)w] where, min and max are the minimum and maximum value from the data respectively. This technique does not changes the spread of the data but does handle the outliers.\n",
    "\n",
    "(b) Equal frequency binning: It is also known as “Quantile Binning”. The algorithm divides the data into N groups where each group contains approximately the same number of values.\n",
    "\n",
    "Consider, we want 10 bins, that is each interval contains 10% of the total observations. Here the width of the interval need not necessarily be equal.\n",
    "Handles outliers better than the previous method and makes the value spread approximately uniform(each interval contains almost the same number of values).\n",
    "\n",
    "(c) K-means binning: This technique uses the clustering algorithm namely ” K-Means Algorithm”. This technique is mostly used when our data is in the form of clusters.\n"
   ]
  },
  {
   "cell_type": "markdown",
   "id": "d6109820",
   "metadata": {
    "id": "d6109820"
   },
   "source": [
    "##### 5. Describe the feature selection wrapper approach. State the advantages and disadvantages of this approach ?"
   ]
  },
  {
   "cell_type": "markdown",
   "id": "72de65b0",
   "metadata": {
    "id": "72de65b0"
   },
   "source": [
    "**Ans:** Wrapper methods measure the “usefulness” of features based on the classifier performance. In contrast, the filter methods pick up the intrinsic properties of the features (i.e., the “relevance” of the features) measured via univariate statistics instead of cross-validation performance.\n",
    "\n",
    "The wrapper classification algorithms with joint dimensionality reduction and classification can also be used but these methods have high computation cost, lower discriminative power. Moreover, these methods depend on the efficient selection of classifiers for obtaining high accuracy.\n",
    "\n",
    "**Most commonly used techniques under wrapper methods are:**\n",
    "\n",
    "1.**Forward selection**: In forward selection, we start with a null model and then start fitting the model with each individual feature one at a time and select the feature with the minimum p-value. Now fit a model with two features by trying combinations of the earlier selected feature with all other remaining features. Again select the feature with the minimum p-value. Now fit a model with three features by trying combinations of two previously selected features with other remaining features. Repeat this process until we have a set of selected features with a p-value of individual features less than the significance level.\n",
    "\n",
    "2.**Backward elimination**: In backward elimination, we start with the full model (including all the independent variables) and then remove the insignificant feature with the highest p-value(> significance level). This process repeats again and again until we have the final set of significant features\n",
    "\n",
    "3.**Bi-directional elimination(Stepwise Selection):** It is similar to forward selection but the difference is while adding a new feature it also checks the significance of already added features and if it finds any of the already selected features insignificant then it simply removes that particular feature through backward elimination. Hence, It is a combination of forward selection and backward elimination.\n",
    "\n",
    "\n",
    "\"\\\"![0_V0GyOt3LoDVfY7y5.png](https://editor.analyticsvidhya.com/uploads/46072IMAGE2.gif)\\\"\"\n",
    "\n"
   ]
  },
  {
   "cell_type": "markdown",
   "id": "51584401",
   "metadata": {
    "id": "51584401"
   },
   "source": [
    "##### 6. When is a feature considered irrelevant? What can be said to quantify it ?"
   ]
  },
  {
   "cell_type": "markdown",
   "id": "a2a92af6",
   "metadata": {
    "id": "a2a92af6"
   },
   "source": [
    "**Ans:** Features are considered relevant if they are either strongly or weakly relevant, and are considered irrelevant otherwise. \n",
    "\n",
    "Irrelevant features can never contribute to prediction accuracy, by definition. Also to quantify it we need to first check the list of features, There are three types of feature selection:\n",
    "\n",
    "- **Wrapper methods** (forward, backward, and stepwise selection)\n",
    "- **Filter methods** (ANOVA, Pearson correlation, variance thresholding)\n",
    "- **Embedded methods** (Lasso, Ridge, Decision Tree).\n",
    "\n",
    "p-value greater than 0.05 means that the feature is insignificant."
   ]
  },
  {
   "cell_type": "markdown",
   "id": "3d21fc3f",
   "metadata": {
    "id": "3d21fc3f"
   },
   "source": [
    "##### 7. When is a function considered redundant? What criteria are used to identify features that could be redundant ?"
   ]
  },
  {
   "cell_type": "markdown",
   "id": "8d0ce42e",
   "metadata": {
    "id": "8d0ce42e"
   },
   "source": [
    "**Ans:** If two features `{X1, X2}` are highly correlated, then the two features become redundant features since they have same information in terms of correlation measure. In other words, the correlation measure provides statistical association between any given a pair of features. \n",
    "\n",
    "Minimum redundancy feature selection is an algorithm frequently used in a method to accurately identify characteristics of genes and phenotypes\n",
    "\n",
    "\"\\\"![0_V0GyOt3LoDVfY7y5.png](https://slideplayer.com/slide/4394644/14/images/3/Background+Relevance+between+features+Correlation+F-statistic.jpg)\\\"\"\n"
   ]
  },
  {
   "cell_type": "markdown",
   "id": "7bd4a123",
   "metadata": {
    "id": "7bd4a123"
   },
   "source": [
    "##### 8. What are the various distance measurements used to determine feature similarity ?"
   ]
  },
  {
   "cell_type": "markdown",
   "id": "ed81d5c4",
   "metadata": {
    "id": "ed81d5c4"
   },
   "source": [
    "**Ans:** Four of the most commonly used distance measures in machine learning are as follows: \n",
    "- Hamming Distance: Hamming distance calculates the distance between two binary vectors, also referred to as binary strings or bitstrings for short.\n",
    "\n",
    "- Euclidean Distance: Calculates the distance between two real-valued vectors.\n",
    "- Manhattan Distance: Also called the Taxicab distance or the City Block distance, calculates the distance between two real-valued vectors.\n",
    "\n",
    "- Minkowski Distance: Minkowski distance calculates the distance between two real-valued vectors. It is a generalization of the Euclidean and Manhattan distance measures and adds a parameter, called the “order” or “p“, that allows different distance measures to be calculated.\n",
    "\n"
   ]
  },
  {
   "cell_type": "markdown",
   "id": "e4d6004e",
   "metadata": {
    "id": "e4d6004e"
   },
   "source": [
    "##### 9. State difference between Euclidean and Manhattan distances ?"
   ]
  },
  {
   "cell_type": "markdown",
   "id": "a39944ba",
   "metadata": {
    "id": "a39944ba"
   },
   "source": [
    "**Ans:** Euclidean & Hamming distances are used to measure similarity or dissimilarity between two sequences. Euclidean distance is extensively applied in analysis of convolutional codes and Trellis codes.\n",
    "\n",
    "Euclidean distance is the shortest path between source and destination which is a straight line as shown in Figure 1.3. but Manhattan distance is sum of all the real distances between source(s) and destination(d) and each distance are always the straight lines\n",
    "\n",
    "\"\\\"![0_V0GyOt3LoDVfY7y5.png](https://encrypted-tbn0.gstatic.com/images?q=tbn:ANd9GcQfHj0UiFFvu4iz6l4sjinKw11BtBgjpAjiTw&usqp=CAU)\\\"\"\n"
   ]
  },
  {
   "cell_type": "markdown",
   "id": "d8a5cfd2",
   "metadata": {
    "id": "d8a5cfd2"
   },
   "source": [
    "##### 10. Distinguish between feature transformation and feature selection ?"
   ]
  },
  {
   "cell_type": "markdown",
   "id": "722dfcff",
   "metadata": {
    "id": "722dfcff"
   },
   "source": [
    "**Ans:** Feature selection is for filtering irrelevant or redundant features from your dataset. The key difference between feature selection and extraction is that feature selection keeps a subset of the original features while feature extraction creates brand new ones.\n",
    "\n",
    "Feature selection is the process of reducing the number of input variables when developing a predictive model. It is desirable to reduce the number of input variables to both reduce the computational cost of modeling and, in some cases, to improve the performance of the model.\n",
    "\n",
    "Feature Transformation is a technique by which we can boost our model performance. Feature transformation is a mathematical transformation in which we apply a mathematical formula to a particular column(feature) and transform the values which are useful for our further analysis. It is also known as Feature Engineering, which is creating new features from existing features that may help in improving the model performance. It refers to the family of algorithms that create new features using the existing features. These new features may not have the same interpretation as the original features, but they may have more explanatory power in a different space rather than in the original space. This can also be used for Feature Reduction. It can be done in many ways, by linear combinations of original features or by using non-linear functions. It helps machine learning algorithms to converge faster."
   ]
  },
  {
   "cell_type": "markdown",
   "id": "75388f58",
   "metadata": {},
   "source": [
    "##### 11. Make brief notes on any two of the following:"
   ]
  },
  {
   "attachments": {
    "image.png": {
     "image/png": "[encoded data removed]"
    }
   },
   "cell_type": "markdown",
   "id": "8377b7c4",
   "metadata": {},
   "source": [
    "**1.SVD (Singular Value Decomposition)**\n",
    "\n",
    "Singular Value Decomposition (SVD) is a matrix factorization technique that decomposes a rectangular matrix into three matrices, representing the matrix's singular values, left singular vectors, and right singular vectors.\n",
    "\n",
    "Given a matrix A, its SVD can be expressed as: A = UΣV^T, where U and V are orthogonal matrices, and Σ is a diagonal matrix containing the singular values of A.\n",
    "\n",
    "The singular values are non-negative real numbers, and they represent the importance or weight of each singular vector in the matrix. The left singular vectors and right singular vectors are also orthonormal, and they represent the directions in which the matrix A has the most significant variation.\n",
    "\n",
    "SVD has many applications in various fields such as signal processing, image compression, data analysis, and machine learning. It can be used for data reduction, noise reduction, feature extraction, and recommender systems, among other applications. SVD is a fundamental tool in linear algebra and has various extensions, such as truncated SVD, randomized SVD, and sparse SVD.\n",
    "\n",
    "**2. Collection of features using a hybrid approach**\n",
    "\n",
    "A hybrid approach for feature selection or feature extraction involves combining multiple methods or algorithms to identify the most relevant and informative features for a given problem. The idea is to leverage the strengths of each approach to improve the overall performance of the feature collection process.\n",
    "\n",
    "For example, one possible hybrid approach is to first apply a filter method, such as correlation-based feature selection, to eliminate irrelevant or redundant features based on statistical measures. Then, a wrapper method, such as recursive feature elimination, can be used to evaluate the remaining features using a predictive model and select the ones that result in the best performance.\n",
    "\n",
    "Another possible hybrid approach is to combine unsupervised and supervised methods. In this case, unsupervised techniques, such as principal component analysis or clustering, can be used to reduce the dimensionality of the feature space and identify groups of related features. Then, supervised methods, such as decision trees or support vector machines, can be used to select the most discriminative features within each group.\n",
    "\n",
    "Hybrid feature selection methods can be more effective than single methods alone because they can overcome their limitations and biases. However, it is important to carefully select and validate the methods used in the hybrid approach to avoid overfitting and ensure that the resulting feature set is meaningful and interpretable.\n",
    "\n",
    "**3. The width of the silhouette**\n",
    "\n",
    "The width of the silhouette is a measure used in cluster analysis to assess the quality of a clustering solution. It is based on the silhouette coefficient, which measures how well each data point fits within its assigned cluster compared to other clusters.\n",
    "\n",
    "To compute the silhouette coefficient for a data point i, we first calculate two distances: a(i), which is the average distance from i to all other points in the same cluster, and b(i), which is the minimum average distance from i to all points in any other cluster. The silhouette coefficient for i is then defined as: (b(i) - a(i)) / max(a(i), b(i))\n",
    "\n",
    "The width of the silhouette is defined as the average silhouette coefficient across all data points in the dataset. A value of 1 indicates that the clustering is perfect, while a value of -1 indicates that the clustering is completely arbitrary or incorrect. A value close to 0 indicates that there is significant overlap or ambiguity in the clustering.\n",
    "\n",
    "The width of the silhouette can be used to compare different clustering algorithms or parameter settings and to determine the optimal number of clusters for a given dataset. However, it should be used in conjunction with other evaluation measures and domain knowledge to ensure that the resulting clusters are meaningful and useful.\n",
    "\n",
    "**4. Receiver operating characteristic curve**\n",
    "![image.png](attachment:image.png)\n",
    "\n",
    "A Receiver Operating Characteristic (ROC) curve is a graphical representation of the performance of a binary classifier system that shows the trade-off between its sensitivity and specificity. It is a commonly used tool in machine learning, signal processing, and other fields that deal with binary classification problems.\n",
    "\n",
    "To create an ROC curve, the classifier system is applied to a dataset with known binary labels (positive and negative cases), and the output scores or probabilities are used to rank the cases in descending order of predicted likelihood of being positive. The ROC curve is then constructed by plotting the true positive rate (TPR) on the y-axis against the false positive rate (FPR) on the x-axis for various threshold values. The TPR is the fraction of positive cases that are correctly identified as positive, while the FPR is the fraction of negative cases that are incorrectly identified as positive.\n",
    "\n",
    "A perfect classifier system would have an ROC curve that passes through the upper left corner (TPR=1, FPR=0) of the plot, indicating perfect sensitivity and specificity. A random classifier system would have an ROC curve that is a diagonal line from (0,0) to (1,1), indicating that the TPR and FPR are equal for all thresholds. An ROC curve that lies above the diagonal line indicates better-than-random classification performance, while a curve that lies below the diagonal line indicates worse-than-random performance.\n",
    "\n",
    "The area under the ROC curve (AUC) is a commonly used metric for evaluating the overall performance of a binary classifier system, with higher values indicating better performance. The ROC curve and AUC can be used to compare different classifier systems, to optimize threshold values, and to visualize the trade-offs between sensitivity and specificity for a given problem."
   ]
  },
  {
   "cell_type": "code",
   "execution_count": null,
   "id": "3f1493fc",
   "metadata": {},
   "outputs": [],
   "source": []
  }
 ],
 "metadata": {
  "colab": {
   "collapsed_sections": [],
   "name": "ML_Assignment_08.ipynb",
   "provenance": []
  },
  "kernelspec": {
   "display_name": "Python 3 (ipykernel)",
   "language": "python",
   "name": "python3"
  },
  "language_info": {
   "codemirror_mode": {
    "name": "ipython",
    "version": 3
   },
   "file_extension": ".py",
   "mimetype": "text/x-python",
   "name": "python",
   "nbconvert_exporter": "python",
   "pygments_lexer": "ipython3",
   "version": "3.9.15"
  }
 },
 "nbformat": 4,
 "nbformat_minor": 5
}
