{
 "cells": [
  {
   "cell_type": "markdown",
   "id": "b2aa57f2",
   "metadata": {},
   "source": [
    "# Assignment 21 Solutions"
   ]
  },
  {
   "cell_type": "markdown",
   "id": "e6276f7c",
   "metadata": {},
   "source": [
    "Submitted By: ANSARI PARVEJ"
   ]
  },
  {
   "cell_type": "markdown",
   "id": "111120c6",
   "metadata": {},
   "source": [
    "##### 1. What is the estimated depth of a Decision Tree trained (unrestricted) on a one million instance training set ?"
   ]
  },
  {
   "cell_type": "markdown",
   "id": "dd3446ad",
   "metadata": {},
   "source": [
    "The estimated depth of a Decision Tree trained on a one million instance training set is dependent on several factors, including the number of features, the complexity of the problem, and the amount of noise in the data. It's impossible to provide a precise estimate without additional information.\n",
    "\n",
    "However, it's important to note that an unrestricted decision tree may lead to overfitting, resulting in poor generalization performance on unseen data. Therefore, it's recommended to use techniques such as pruning or limiting the maximum depth to avoid overfitting."
   ]
  },
  {
   "cell_type": "markdown",
   "id": "4ae857d4",
   "metadata": {},
   "source": [
    "##### 2. Is the Gini impurity of a node usually lower or higher than that of its parent? Is it always lower/greater, or is it usually lower/greater ?"
   ]
  },
  {
   "cell_type": "markdown",
   "id": "41e99bd0",
   "metadata": {},
   "source": [
    "The Gini impurity of a node is usually lower than that of its parent, but this is not always the case. The Gini impurity of a node depends on the distribution of the classes in the node, and it is possible that splitting the node may result in a child node with a higher Gini impurity than the parent node. However, the goal of a decision tree is to minimize the overall impurity of the tree, so the algorithm will generally choose splits that result in child nodes with lower Gini impurity."
   ]
  },
  {
   "cell_type": "markdown",
   "id": "c981ac1e",
   "metadata": {},
   "source": [
    "##### 3. Explain if its a good idea to reduce max depth if a Decision Tree is overfitting the training set ?"
   ]
  },
  {
   "cell_type": "markdown",
   "id": "de777eb2",
   "metadata": {},
   "source": [
    "If a Decision Tree is overfitting the training set, reducing its maximum depth can be an effective way to combat the overfitting. By reducing the maximum depth, the Decision Tree's complexity is reduced, making it less likely to fit the training data too closely. This reduction in complexity may improve the model's generalization performance on unseen data.\n",
    "\n",
    "However, reducing the maximum depth may also result in underfitting the training set. Therefore, the best approach is to train a Decision Tree with different maximum depths, and select the one that achieves the best performance on the validation set. Alternatively, one can also use techniques like pruning or regularization to reduce overfitting without reducing the maximum depth."
   ]
  },
  {
   "cell_type": "markdown",
   "id": "07ab2a64",
   "metadata": {},
   "source": [
    "##### 4. Explain if its a  good idea to try scaling the input features if a Decision Tree underfits the training set ?"
   ]
  },
  {
   "cell_type": "markdown",
   "id": "c041c14b",
   "metadata": {},
   "source": [
    "Scaling the input features is not necessary for decision trees, and it is unlikely to improve underfitting. In fact, scaling the features will not affect the decision tree's splitting rules because the algorithm compares only one feature at a time. Scaling may, however, affect other models that rely on distance measurements, such as K-nearest neighbors or support vector machines.\n",
    "\n",
    "If a decision tree underfits the training set, the most effective strategy is to allow the tree to grow deeper. Increasing the maximum depth of the tree can increase its flexibility and enable it to better capture the training set's structure. Other strategies include reducing the minimum number of samples required to split a node or reducing the minimum number of samples required to be at a leaf node."
   ]
  },
  {
   "cell_type": "markdown",
   "id": "0be2162e",
   "metadata": {},
   "source": [
    "##### 5. How much time will it take to train another Decision Tree on a training set of 10 million instances if it takes an hour to train a Decision Tree on a training set with 1 million instances ?"
   ]
  },
  {
   "cell_type": "markdown",
   "id": "39723b17",
   "metadata": {},
   "source": [
    "It is difficult to give a precise answer since the training time of a decision tree depends on various factors, such as the complexity of the tree, the number of features, the amount of memory and computing resources available, and the implementation of the algorithm used.\n",
    "\n",
    "However, as a rough estimate, we can assume that the training time of a decision tree is roughly linearly proportional to the size of the training set. Therefore, training a decision tree on a training set of 10 million instances could take approximately 10 hours, assuming all other factors are equal.\n",
    "\n",
    "It's important to note that this is just an estimate and the actual training time may vary significantly based on the factors mentioned above. Additionally, there are techniques such as ensemble methods (e.g., random forests) that can help reduce training time and improve performance on large datasets."
   ]
  },
  {
   "cell_type": "markdown",
   "id": "a96163dd",
   "metadata": {},
   "source": [
    "##### 6. Will setting presort=True speed up training if your training set has 100,000 instances ?"
   ]
  },
  {
   "cell_type": "markdown",
   "id": "df00d139",
   "metadata": {},
   "source": [
    "Setting presort=True in scikit-learn's DecisionTreeClassifier or DecisionTreeRegressor can speed up training for small datasets (less than a few thousand instances), but can actually slow down training for larger datasets. This is because presort=True sorts the data prior to building the tree, which can be time-consuming for large datasets. In the case of a training set with 100,000 instances, it is likely that setting presort=True would slow down training, rather than speed it up. It is best to leave presort as False for larger datasets."
   ]
  },
  {
   "cell_type": "markdown",
   "id": "6b3b649e",
   "metadata": {},
   "source": [
    "##### 7. Follow these steps to train and fine-tune a Decision Tree for the moons dataset:\n",
    "1. To build a moons dataset, use make moons(n samples=10000, noise=0.4).\n",
    "2. Divide the dataset into a training and a test collection with train test split().\n",
    "3. To find good hyperparameters values for a DecisionTreeClassifier, use grid search with cross-validation (with the GridSearchCV class). Try different values for max leaf nodes.\n",
    "4. Use these hyperparameters to train the model on the entire training set, and then assess its output on the test set. You can achieve an accuracy of 85 to 87 percent."
   ]
  },
  {
   "cell_type": "code",
   "execution_count": null,
   "id": "507ebbe4",
   "metadata": {},
   "outputs": [],
   "source": [
    "from sklearn.datasets import make_moons\n",
    "from sklearn.model_selection import train_test_split, GridSearchCV\n",
    "from sklearn.tree import DecisionTreeClassifier\n",
    "\n",
    "# Step 1: Generate the moons dataset\n",
    "X, y = make_moons(n_samples=10000, noise=0.4)\n",
    "\n",
    "# Step 2: Split the dataset into training and test sets\n",
    "X_train, X_test, y_train, y_test = train_test_split(X, y, test_size=0.2, random_state=42)\n",
    "\n",
    "# Step 3: Fine-tune hyperparameters using grid search with cross-validation\n",
    "param_grid = {'max_leaf_nodes': list(range(2, 100))}\n",
    "tree_clf = DecisionTreeClassifier(random_state=42)\n",
    "grid_search = GridSearchCV(tree_clf, param_grid, cv=5, scoring='accuracy')\n",
    "grid_search.fit(X_train, y_train)\n",
    "\n",
    "# print the best hyperparameters\n",
    "print(grid_search.best_params_)\n",
    "\n",
    "# Step 4: Train the model on the entire training set using the best hyperparameters\n",
    "best_clf = grid_search.best_estimator_\n",
    "best_clf.fit(X_train, y_train)\n",
    "\n",
    "# Step 5: Evaluate the model on the test set\n",
    "test_acc = best_clf.score(X_test, y_test)\n",
    "print(\"Test set accuracy: {:.2f}%\".format(test_acc * 100))\n"
   ]
  },
  {
   "cell_type": "markdown",
   "id": "54020cf8",
   "metadata": {},
   "source": [
    "##### 8. Follow these steps to grow a forest:\n",
    "1. Using the same method as before, create 1,000 subsets of the training set, each containing 100 instances chosen at random. You can do this with Scikit-ShuffleSplit Learn's class.\n",
    "2. Using the best hyperparameter values found in the previous exercise, train one Decision Tree on each subset. On the test collection, evaluate these 1,000 Decision Trees. These Decision        Trees would likely perform worse than the first Decision Tree, achieving only around 80% accuracy, since they were trained on smaller sets.\n",
    "3. Now the magic begins. Create 1,000 Decision Tree predictions for each test set case, and keep only the most common prediction (you can do this with SciPy's mode() function). Over the test collection, this method gives you majority-vote predictions.\n",
    "4. On the test range, evaluate these predictions: you should achieve a slightly higher accuracy than the first model (approx 0.5 to 1.5 percent higher). You've successfully learned a Random Forest classifier!"
   ]
  },
  {
   "cell_type": "raw",
   "id": "c3c21ca5",
   "metadata": {},
   "source": [
    "??????"
   ]
  },
  {
   "cell_type": "code",
   "execution_count": null,
   "id": "61145623",
   "metadata": {},
   "outputs": [],
   "source": []
  }
 ],
 "metadata": {
  "kernelspec": {
   "display_name": "Python 3 (ipykernel)",
   "language": "python",
   "name": "python3"
  },
  "language_info": {
   "codemirror_mode": {
    "name": "ipython",
    "version": 3
   },
   "file_extension": ".py",
   "mimetype": "text/x-python",
   "name": "python",
   "nbconvert_exporter": "python",
   "pygments_lexer": "ipython3",
   "version": "3.9.15"
  }
 },
 "nbformat": 4,
 "nbformat_minor": 5
}
