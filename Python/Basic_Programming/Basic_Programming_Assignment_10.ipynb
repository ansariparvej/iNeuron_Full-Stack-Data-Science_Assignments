{
  "cells": [
    {
      "cell_type": "markdown",
      "id": "0753e292",
      "metadata": {
        "id": "0753e292"
      },
      "source": [
        "# Assignment 10 Solutions"
      ]
    },
    {
      "cell_type": "markdown",
      "source": [
        "SUBMITTED BY: PARVEJ ANSARI"
      ],
      "metadata": {
        "id": "G2GczZPyYy7a"
      },
      "id": "G2GczZPyYy7a"
    },
    {
      "cell_type": "markdown",
      "id": "d6f96d38",
      "metadata": {
        "id": "d6f96d38"
      },
      "source": [
        "#### 1.Write a Python Program to find sum of elements in a list ?"
      ]
    },
    {
      "cell_type": "code",
      "execution_count": 1,
      "id": "1fbea5b2",
      "metadata": {
        "colab": {
          "base_uri": "https://localhost:8080/"
        },
        "id": "1fbea5b2",
        "outputId": "9a7d34f6-0e3d-4856-eed3-6077b6338abd"
      },
      "outputs": [
        {
          "output_type": "stream",
          "name": "stdout",
          "text": [
            "Enter the No of Entries in a List: 10\n",
            "Enter a element: 12\n",
            "Enter a element: 12\n",
            "Enter a element: 13\n",
            "Enter a element: 11\n",
            "Enter a element: 14\n",
            "Enter a element: 15\n",
            "Enter a element: 11\n",
            "Enter a element: 51\n",
            "Enter a element: 53\n",
            "Enter a element: 65\n",
            "Sum of Elements: 257\n"
          ]
        }
      ],
      "source": [
        "11\n",
        "2def sumofList():\n",
        "    in_ele = int(input('Enter the No of Entries in a List: '))\n",
        "    in_list = []\n",
        "    for itr in range(in_ele):\n",
        "        in_list.append(int(input('Enter a element: ')))\n",
        "    print(f'Sum of Elements: {sum(in_list)}')\n",
        "\n",
        "sumofList()"
      ]
    },
    {
      "cell_type": "markdown",
      "id": "35ff9c7c",
      "metadata": {
        "id": "35ff9c7c"
      },
      "source": [
        "#### 2.Write a Python Program to multiply all numbers in the list ?"
      ]
    },
    {
      "cell_type": "code",
      "execution_count": 2,
      "id": "d77e77e6",
      "metadata": {
        "colab": {
          "base_uri": "https://localhost:8080/"
        },
        "id": "d77e77e6",
        "outputId": "57470a2f-5612-49ac-9cee-9f0a48cea18b"
      },
      "outputs": [
        {
          "output_type": "stream",
          "name": "stdout",
          "text": [
            "Enter the No of Entries in a List: 3\n",
            "Enter a element: 1\n",
            "Enter a element: 2\n",
            "Enter a element: 3\n",
            "6\n"
          ]
        }
      ],
      "source": [
        "def mulofList():\n",
        "    in_ele = int(input('Enter the No of Entries in a List: '))\n",
        "    in_list = []\n",
        "    mul = 1\n",
        "    for itr in range(in_ele):\n",
        "        in_list.append(int(input('Enter a element: ')))\n",
        "    for ele in in_list:\n",
        "        mul = mul * ele\n",
        "    print(mul)\n",
        "\n",
        "mulofList()"
      ]
    },
    {
      "cell_type": "markdown",
      "id": "0561967b",
      "metadata": {
        "id": "0561967b"
      },
      "source": [
        "#### 3.Write a Python Program to find smallest number in the list ?"
      ]
    },
    {
      "cell_type": "code",
      "execution_count": 3,
      "id": "3e9863eb",
      "metadata": {
        "colab": {
          "base_uri": "https://localhost:8080/"
        },
        "id": "3e9863eb",
        "outputId": "cc8e239b-0acd-40a6-847b-4d848a1b3e09"
      },
      "outputs": [
        {
          "output_type": "stream",
          "name": "stdout",
          "text": [
            "Enter the No of elements in a list: 3\n",
            "Enter a Element: 1\n",
            "Enter a Element: 2\n",
            "Enter a Element: 4\n",
            "The Smallest Element in [1, 2, 4] is 1\n"
          ]
        }
      ],
      "source": [
        "def smallEleInList():\n",
        "    in_ele = int(input('Enter the No of elements in a list: '))\n",
        "    in_list = []\n",
        "    for ele in range(in_ele):\n",
        "        in_list.append(int(input('Enter a Element: ')))\n",
        "    print(f'The Smallest Element in {in_list} is {sorted(in_list)[0]}')\n",
        "smallEleInList()"
      ]
    },
    {
      "cell_type": "markdown",
      "id": "0684d2e6",
      "metadata": {
        "id": "0684d2e6"
      },
      "source": [
        "#### 4.Write a Python Program to find largest number in the list ?"
      ]
    },
    {
      "cell_type": "code",
      "execution_count": 4,
      "id": "c1984a1c",
      "metadata": {
        "colab": {
          "base_uri": "https://localhost:8080/"
        },
        "id": "c1984a1c",
        "outputId": "943afd31-fc5c-4fdf-c03c-78212cd4b834"
      },
      "outputs": [
        {
          "output_type": "stream",
          "name": "stdout",
          "text": [
            "Enter the No of elements in a list: 4\n",
            "Enter a Element: 1\n",
            "Enter a Element: 3\n",
            "Enter a Element: 6\n",
            "Enter a Element: 2\n",
            "The Largest Element in [1, 3, 6, 2] is 6\n"
          ]
        }
      ],
      "source": [
        "def largestEleInList():\n",
        "    in_ele = int(input('Enter the No of elements in a list: '))\n",
        "    in_list = []\n",
        "    for ele in range(in_ele):\n",
        "        in_list.append(int(input('Enter a Element: ')))\n",
        "    print(f'The Largest Element in {in_list} is {sorted(in_list, reverse=True)[0]}')\n",
        "\n",
        "largestEleInList()"
      ]
    },
    {
      "cell_type": "markdown",
      "id": "ef882ac4",
      "metadata": {
        "id": "ef882ac4"
      },
      "source": [
        "#### 5.Write a Python Program to find second largest number in the list ?"
      ]
    },
    {
      "cell_type": "code",
      "execution_count": 5,
      "id": "ca2c5e29",
      "metadata": {
        "colab": {
          "base_uri": "https://localhost:8080/"
        },
        "id": "ca2c5e29",
        "outputId": "d39a482b-ad62-4169-e3ab-ae0e39a2ef2b"
      },
      "outputs": [
        {
          "output_type": "stream",
          "name": "stdout",
          "text": [
            "Enter the No of elements in a list: 3\n",
            "Enter a Element: 43\n",
            "Enter a Element: 64\n",
            "Enter a Element: 32\n",
            "The Second Largest Element in [43, 64, 32] is 43\n"
          ]
        }
      ],
      "source": [
        "def secondLargestEleInList():\n",
        "    in_ele = int(input('Enter the No of elements in a list: '))\n",
        "    in_list = []\n",
        "    for ele in range(in_ele):\n",
        "        in_list.append(int(input('Enter a Element: ')))\n",
        "    print(f'The Second Largest Element in {in_list} is {sorted(in_list, reverse=True)[1]}')\n",
        "\n",
        "secondLargestEleInList()"
      ]
    },
    {
      "cell_type": "markdown",
      "id": "ee185d52",
      "metadata": {
        "id": "ee185d52"
      },
      "source": [
        "#### 6.Write a Python Program to find N largest elements in the list ?"
      ]
    },
    {
      "cell_type": "code",
      "execution_count": 6,
      "id": "e2c518fa",
      "metadata": {
        "colab": {
          "base_uri": "https://localhost:8080/"
        },
        "id": "e2c518fa",
        "outputId": "9f3952f8-b69b-4b9d-f48f-c533c8163370"
      },
      "outputs": [
        {
          "output_type": "stream",
          "name": "stdout",
          "text": [
            "Enter the No of elements in a list: 3\n",
            "Enter a Element: 1\n",
            "Enter a Element: 4\n",
            "Enter a Element: 2\n",
            "The 4 Largest Element in [1, 4, 2] is [4, 2, 1]\n"
          ]
        }
      ],
      "source": [
        "def nLargestEleInList(k):\n",
        "    in_ele = int(input('Enter the No of elements in a list: '))\n",
        "    in_list = []\n",
        "    for ele in range(in_ele):\n",
        "        in_list.append(int(input('Enter a Element: ')))\n",
        "    print(f'The {k} Largest Element in {in_list} is {sorted(in_list, reverse=True)[0:k]}')\n",
        "\n",
        "nLargestEleInList(4)"
      ]
    },
    {
      "cell_type": "markdown",
      "id": "7f5a2b91",
      "metadata": {
        "id": "7f5a2b91"
      },
      "source": [
        "#### 7.Write a Python Program to find even numbers in the list ?"
      ]
    },
    {
      "cell_type": "code",
      "execution_count": 7,
      "id": "e9b0d19a",
      "metadata": {
        "colab": {
          "base_uri": "https://localhost:8080/"
        },
        "id": "e9b0d19a",
        "outputId": "3536e35c-2c41-456e-dcd6-43f9689bf043"
      },
      "outputs": [
        {
          "output_type": "stream",
          "name": "stdout",
          "text": [
            "Enter the No of elements in a list: 3\n",
            "Enter a Element: 16\n",
            "Enter a Element: 43\n",
            "Enter a Element: 32\n",
            "The Even Elements in [16, 43, 32] are [16, 32]\n"
          ]
        }
      ],
      "source": [
        "def evenNoInList():\n",
        "    in_ele = int(input('Enter the No of elements in a list: '))\n",
        "    in_list = []\n",
        "    even_list = []\n",
        "    for ele in range(in_ele):\n",
        "        in_list.append(int(input('Enter a Element: ')))\n",
        "    for ele in in_list:\n",
        "        if ele%2 == 0:\n",
        "            even_list.append(ele)\n",
        "    print(f'The Even Elements in {in_list} are {even_list}')\n",
        "\n",
        "evenNoInList()"
      ]
    },
    {
      "cell_type": "markdown",
      "id": "a5d3f862",
      "metadata": {
        "id": "a5d3f862"
      },
      "source": [
        "#### 8.Write a Python Program to find odd numbers in the list ?"
      ]
    },
    {
      "cell_type": "code",
      "execution_count": 8,
      "id": "101d0718",
      "metadata": {
        "colab": {
          "base_uri": "https://localhost:8080/"
        },
        "id": "101d0718",
        "outputId": "bd2f3db9-6a44-48cf-af76-bc8071e4df1f"
      },
      "outputs": [
        {
          "output_type": "stream",
          "name": "stdout",
          "text": [
            "Enter the No of elements in a list: 13\n",
            "Enter a Element: 1\n",
            "Enter a Element: 2\n",
            "Enter a Element: 3\n",
            "Enter a Element: 4\n",
            "Enter a Element: 5\n",
            "Enter a Element: 6\n",
            "Enter a Element: 7\n",
            "Enter a Element: 8\n",
            "Enter a Element: 9\n",
            "Enter a Element: 10\n",
            "Enter a Element: 11\n",
            "Enter a Element: 12\n",
            "Enter a Element: 13\n",
            "The Even Elements in [1, 2, 3, 4, 5, 6, 7, 8, 9, 10, 11, 12, 13] are [1, 3, 5, 7, 9, 11, 13]\n"
          ]
        }
      ],
      "source": [
        "def oddNoInList():\n",
        "    in_ele = int(input('Enter the No of elements in a list: '))\n",
        "    in_list = []\n",
        "    odd_list = []\n",
        "    for ele in range(in_ele):\n",
        "        in_list.append(int(input('Enter a Element: ')))\n",
        "    for ele in in_list:\n",
        "        if ele%2 != 0:\n",
        "            odd_list.append(ele)\n",
        "    print(f'The Even Elements in {in_list} are {odd_list}')\n",
        "\n",
        "oddNoInList()"
      ]
    },
    {
      "cell_type": "markdown",
      "id": "f97fa7ea",
      "metadata": {
        "id": "f97fa7ea"
      },
      "source": [
        "#### 9.Write a Python Program to remove empty list from list ?"
      ]
    },
    {
      "cell_type": "code",
      "execution_count": null,
      "id": "193a2ef1",
      "metadata": {
        "id": "193a2ef1",
        "outputId": "495316f6-402e-4e40-d2ac-6bb98bc7aea8"
      },
      "outputs": [
        {
          "name": "stdout",
          "output_type": "stream",
          "text": [
            "Enter all elements of the list: [1,2,3,4,5,[],6,7,8,9,0]\n",
            "There is an Empty list in [1, 2, 3, 4, 5, [], 6, 7, 8, 9, 0] at Position 5\n",
            "The List after removing [] is [1, 2, 3, 4, 5, 6, 7, 8, 9, 0]\n"
          ]
        }
      ],
      "source": [
        "def checkEmptyList():\n",
        "    in_list = eval(input('Enter all elements of the list: '))\n",
        "    if [] in in_list:\n",
        "        print(f'There is an Empty list in {in_list} at Position {in_list.index([])}')\n",
        "        in_list.remove([])\n",
        "        print(f'The List after removing [] is {in_list}')\n",
        "    else:\n",
        "        print(f'There is no [] List in the list {in_list}')\n",
        "        \n",
        "checkEmptyList()"
      ]
    },
    {
      "cell_type": "markdown",
      "id": "1a5b1f91",
      "metadata": {
        "id": "1a5b1f91"
      },
      "source": [
        "#### 10.Write a Python Program to Cloning or Copying a list ?"
      ]
    },
    {
      "cell_type": "code",
      "execution_count": null,
      "id": "55882ca5",
      "metadata": {
        "id": "55882ca5",
        "outputId": "1e7dfef5-d5ef-43b0-f908-2df01399a384"
      },
      "outputs": [
        {
          "name": "stdout",
          "output_type": "stream",
          "text": [
            "Enter a list[1,2,3,4,5,6,7,8,9,0]\n",
            "[1, 2, 3, 4, 5, 6, 7, 8, 9, 0] 1804715913280\n",
            "[1, 2, 3, 4, 5, 6, 7, 8, 9, 0] 1804715963072\n"
          ]
        }
      ],
      "source": [
        "import copy\n",
        "\n",
        "def cloneList():\n",
        "    in_list = eval(input('Enter a list'))\n",
        "    print(in_list, id(in_list))\n",
        "    cloned_list = in_list.copy()\n",
        "    print(cloned_list, id(cloned_list))\n",
        "\n",
        "cloneList()"
      ]
    },
    {
      "cell_type": "markdown",
      "id": "37e5e6bd",
      "metadata": {
        "id": "37e5e6bd"
      },
      "source": [
        "#### 11.Write a Python Program to count occurences of an element in a list ?"
      ]
    },
    {
      "cell_type": "code",
      "execution_count": null,
      "id": "8a5e7b52",
      "metadata": {
        "id": "8a5e7b52",
        "outputId": "97455a10-d2ac-4ec5-c5b1-c9f6033b292b"
      },
      "outputs": [
        {
          "name": "stdout",
          "output_type": "stream",
          "text": [
            "Enter the elements of the list: [1,2,3,1,2,3,1,2,3,4,5,6,4,5,6]\n",
            "Enter the element to find: 6\n",
            "There are 2 occurences of 6 in [1, 2, 3, 1, 2, 3, 1, 2, 3, 4, 5, 6, 4, 5, 6]\n"
          ]
        }
      ],
      "source": [
        "def checkOccurence():\n",
        "    in_list = eval(input('Enter the elements of the list: '))\n",
        "    in_num = eval(input('Enter the element to find: '))\n",
        "    count = 0\n",
        "    if in_num in in_list:\n",
        "        for ele in in_list:\n",
        "            if ele == in_num:\n",
        "                count = count+1\n",
        "    print(f'There are {count} occurences of {in_num} in {in_list}')\n",
        "    \n",
        "checkOccurence()"
      ]
    }
  ],
  "metadata": {
    "kernelspec": {
      "display_name": "Python 3",
      "language": "python",
      "name": "python3"
    },
    "language_info": {
      "codemirror_mode": {
        "name": "ipython",
        "version": 3
      },
      "file_extension": ".py",
      "mimetype": "text/x-python",
      "name": "python",
      "nbconvert_exporter": "python",
      "pygments_lexer": "ipython3",
      "version": "3.8.8"
    },
    "colab": {
      "name": "Basic_Programming Assignment_10.ipynb",
      "provenance": [],
      "collapsed_sections": []
    }
  },
  "nbformat": 4,
  "nbformat_minor": 5
}