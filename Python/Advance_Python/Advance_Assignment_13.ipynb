{
  "cells": [
    {
      "cell_type": "markdown",
      "id": "e51b77c7",
      "metadata": {
        "id": "e51b77c7"
      },
      "source": [
        "# Assignment 13 Solutions"
      ]
    },
    {
      "cell_type": "markdown",
      "source": [
        "SUBMITTED BY: PARVEJ ANSARI"
      ],
      "metadata": {
        "id": "b0Mo0TpKB59I"
      },
      "id": "b0Mo0TpKB59I"
    },
    {
      "cell_type": "markdown",
      "id": "dfee8ef3",
      "metadata": {
        "id": "dfee8ef3"
      },
      "source": [
        "#### Q1. Can you create a programme or function that employs both positive and negative indexing? Is there any repercussion if you do so?"
      ]
    },
    {
      "cell_type": "code",
      "execution_count": 1,
      "id": "900d1a45",
      "metadata": {
        "colab": {
          "base_uri": "https://localhost:8080/"
        },
        "id": "900d1a45",
        "outputId": "4f0f984e-959c-485e-d99e-6d330ef6ea7a"
      },
      "outputs": [
        {
          "output_type": "stream",
          "name": "stdout",
          "text": [
            "Positive Indexing -> 6\n",
            "Negative Indexing -> 13\n"
          ]
        }
      ],
      "source": [
        "my_list = [1,2,3,4,5,6,6,7,8,9,10,11,12,13]\n",
        "def bi_index(in_list,position):\n",
        "    return in_list[position]\n",
        "print('Positive Indexing ->',bi_index(my_list,5))\n",
        "print('Negative Indexing ->',bi_index(my_list,-1))"
      ]
    },
    {
      "cell_type": "markdown",
      "id": "12df6e66",
      "metadata": {
        "id": "12df6e66"
      },
      "source": [
        "#### Q2. What is the most effective way of starting with 1,000 elements in a Python list? Assume that all elements should be set to the same value.\n"
      ]
    },
    {
      "cell_type": "code",
      "execution_count": null,
      "id": "4c491202",
      "metadata": {
        "id": "4c491202",
        "outputId": "05d94ea1-7054-48f5-e7ca-94980049f054"
      },
      "outputs": [
        {
          "name": "stdout",
          "output_type": "stream",
          "text": [
            "[1, 1, 1, 1, 1, 1, 1, 1, 1, 1, 1, 1, 1, 1, 1, 1, 1, 1, 1, 1, 1, 1, 1, 1, 1, 1, 1, 1, 1, 1, 1, 1, 1, 1, 1, 1, 1, 1, 1, 1, 1, 1, 1, 1, 1, 1, 1, 1, 1, 1, 1, 1, 1, 1, 1, 1, 1, 1, 1, 1, 1, 1, 1, 1, 1, 1, 1, 1, 1, 1, 1, 1, 1, 1, 1, 1, 1, 1, 1, 1, 1, 1, 1, 1, 1, 1, 1, 1, 1, 1, 1, 1, 1, 1, 1, 1, 1, 1, 1, 1, 1, 1, 1, 1, 1, 1, 1, 1, 1, 1, 1, 1, 1, 1, 1, 1, 1, 1, 1, 1, 1, 1, 1, 1, 1, 1, 1, 1, 1, 1, 1, 1, 1, 1, 1, 1, 1, 1, 1, 1, 1, 1, 1, 1, 1, 1, 1, 1, 1, 1, 1, 1, 1, 1, 1, 1, 1, 1, 1, 1, 1, 1, 1, 1, 1, 1, 1, 1, 1, 1, 1, 1, 1, 1, 1, 1, 1, 1, 1, 1, 1, 1, 1, 1, 1, 1, 1, 1, 1, 1, 1, 1, 1, 1, 1, 1, 1, 1, 1, 1, 1, 1, 1, 1, 1, 1, 1, 1, 1, 1, 1, 1, 1, 1, 1, 1, 1, 1, 1, 1, 1, 1, 1, 1, 1, 1, 1, 1, 1, 1, 1, 1, 1, 1, 1, 1, 1, 1, 1, 1, 1, 1, 1, 1, 1, 1, 1, 1, 1, 1, 1, 1, 1, 1, 1, 1, 1, 1, 1, 1, 1, 1, 1, 1, 1, 1, 1, 1, 1, 1, 1, 1, 1, 1, 1, 1, 1, 1, 1, 1, 1, 1, 1, 1, 1, 1, 1, 1, 1, 1, 1, 1, 1, 1, 1, 1, 1, 1, 1, 1, 1, 1, 1, 1, 1, 1, 1, 1, 1, 1, 1, 1, 1, 1, 1, 1, 1, 1, 1, 1, 1, 1, 1, 1, 1, 1, 1, 1, 1, 1, 1, 1, 1, 1, 1, 1, 1, 1, 1, 1, 1, 1, 1, 1, 1, 1, 1, 1, 1, 1, 1, 1, 1, 1, 1, 1, 1, 1, 1, 1, 1, 1, 1, 1, 1, 1, 1, 1, 1, 1, 1, 1, 1, 1, 1, 1, 1, 1, 1, 1, 1, 1, 1, 1, 1, 1, 1, 1, 1, 1, 1, 1, 1, 1, 1, 1, 1, 1, 1, 1, 1, 1, 1, 1, 1, 1, 1, 1, 1, 1, 1, 1, 1, 1, 1, 1, 1, 1, 1, 1, 1, 1, 1, 1, 1, 1, 1, 1, 1, 1, 1, 1, 1, 1, 1, 1, 1, 1, 1, 1, 1, 1, 1, 1, 1, 1, 1, 1, 1, 1, 1, 1, 1, 1, 1, 1, 1, 1, 1, 1, 1, 1, 1, 1, 1, 1, 1, 1, 1, 1, 1, 1, 1, 1, 1, 1, 1, 1, 1, 1, 1, 1, 1, 1, 1, 1, 1, 1, 1, 1, 1, 1, 1, 1, 1, 1, 1, 1, 1, 1, 1, 1, 1, 1, 1, 1, 1, 1, 1, 1, 1, 1, 1, 1, 1, 1, 1, 1, 1, 1, 1, 1, 1, 1, 1, 1, 1, 1, 1, 1, 1, 1, 1, 1, 1, 1, 1, 1, 1, 1, 1, 1, 1, 1, 1, 1, 1, 1, 1, 1, 1, 1, 1, 1, 1, 1, 1, 1, 1, 1, 1, 1, 1, 1, 1, 1, 1, 1, 1, 1, 1, 1, 1, 1, 1, 1, 1, 1, 1, 1, 1, 1, 1, 1, 1, 1, 1, 1, 1, 1, 1, 1, 1, 1, 1, 1, 1, 1, 1, 1, 1, 1, 1, 1, 1, 1, 1, 1, 1, 1, 1, 1, 1, 1, 1, 1, 1, 1, 1, 1, 1, 1, 1, 1, 1, 1, 1, 1, 1, 1, 1, 1, 1, 1, 1, 1, 1, 1, 1, 1, 1, 1, 1, 1, 1, 1, 1, 1, 1, 1, 1, 1, 1, 1, 1, 1, 1, 1, 1, 1, 1, 1, 1, 1, 1, 1, 1, 1, 1, 1, 1, 1, 1, 1, 1, 1, 1, 1, 1, 1, 1, 1, 1, 1, 1, 1, 1, 1, 1, 1, 1, 1, 1, 1, 1, 1, 1, 1, 1, 1, 1, 1, 1, 1, 1, 1, 1, 1, 1, 1, 1, 1, 1, 1, 1, 1, 1, 1, 1, 1, 1, 1, 1, 1, 1, 1, 1, 1, 1, 1, 1, 1, 1, 1, 1, 1, 1, 1, 1, 1, 1, 1, 1, 1, 1, 1, 1, 1, 1, 1, 1, 1, 1, 1, 1, 1, 1, 1, 1, 1, 1, 1, 1, 1, 1, 1, 1, 1, 1, 1, 1, 1, 1, 1, 1, 1, 1, 1, 1, 1, 1, 1, 1, 1, 1, 1, 1, 1, 1, 1, 1, 1, 1, 1, 1, 1, 1, 1, 1, 1, 1, 1, 1, 1, 1, 1, 1, 1, 1, 1, 1, 1, 1, 1, 1, 1, 1, 1, 1, 1, 1, 1, 1, 1, 1, 1, 1, 1, 1, 1, 1, 1, 1, 1, 1, 1, 1, 1, 1, 1, 1, 1, 1, 1, 1, 1, 1, 1, 1, 1, 1, 1, 1, 1, 1, 1, 1, 1, 1, 1, 1, 1, 1, 1, 1, 1, 1, 1, 1, 1, 1, 1, 1, 1, 1, 1, 1, 1, 1, 1, 1, 1, 1, 1, 1, 1, 1, 1, 1, 1, 1, 1, 1, 1, 1, 1, 1, 1, 1, 1, 1, 1, 1, 1, 1, 1, 1, 1, 1, 1, 1, 1, 1, 1, 1, 1, 1, 1, 1, 1, 1, 1, 1, 1, 1, 1, 1, 1, 1, 1, 1, 1, 1, 1, 1, 1, 1, 1, 1, 1, 1, 1, 1, 1, 1, 1, 1, 1, 1, 1, 1, 1, 1, 1, 1, 1, 1, 1, 1, 1, 1, 1, 1, 1, 1, 1, 1, 1, 1, 1, 1, 1, 1, 1, 1, 1, 1, 1, 1, 1, 1, 1, 1, 1, 1, 1, 1, 1, 1, 1, 1, 1, 1, 1, 1, 1, 1, 1, 1, 1, 1]\n"
          ]
        }
      ],
      "source": [
        "start_list = [1 for x in range(1001)] # Quick Way to Create a List Using List Comprehension\n",
        "print(start_list)"
      ]
    },
    {
      "cell_type": "markdown",
      "id": "6351fa74",
      "metadata": {
        "id": "6351fa74"
      },
      "source": [
        "#### Q3. How do you slice a list to get any other part while missing the rest? (For example, suppose you want to make a new list with the elements first, third, fifth, seventh, and so on.)"
      ]
    },
    {
      "cell_type": "code",
      "execution_count": null,
      "id": "8086d0ef",
      "metadata": {
        "id": "8086d0ef",
        "outputId": "41707e4d-01c6-4f45-9833-bdb9e874647c"
      },
      "outputs": [
        {
          "name": "stdout",
          "output_type": "stream",
          "text": [
            "my_list -> [1, 2, 3, 4, 5, 6, 7, 8, 9, 10, 11, 12, 13, 14]\n",
            "sliced_list -> [1, 3, 5, 7, 9, 11, 13]\n"
          ]
        }
      ],
      "source": [
        "my_list = [x for x in range(1,15)]\n",
        "print(f'my_list -> {my_list}')\n",
        "sliced_list = my_list[::2]\n",
        "print(f'sliced_list -> {sliced_list}')"
      ]
    },
    {
      "cell_type": "markdown",
      "id": "250146a1",
      "metadata": {
        "id": "250146a1"
      },
      "source": [
        "#### Q4. Explain the distinctions between indexing and slicing ?\n",
        "**Ans:**  Indexing is used when we have to work on index level. While slicing are used over a range of items."
      ]
    },
    {
      "cell_type": "code",
      "execution_count": null,
      "id": "f8d34711",
      "metadata": {
        "id": "f8d34711",
        "outputId": "7413d92c-d064-4dbb-d264-561015f677ad"
      },
      "outputs": [
        {
          "name": "stdout",
          "output_type": "stream",
          "text": [
            "my_list -> [1, 2, 3, 4, 5, 6, 7, 8, 9, 10, 11, 12, 13, 14]\n",
            "Example of indexing -> (2, 6)\n",
            "Example of slicing -> [2, 3, 4, 5]\n"
          ]
        }
      ],
      "source": [
        "my_list = [x for x in range(1,15)]\n",
        "print(f'my_list -> {my_list}')\n",
        "print(f'Example of indexing -> {my_list[1], my_list[5]}')\n",
        "print(f'Example of slicing -> {my_list[1:5]}')"
      ]
    },
    {
      "cell_type": "markdown",
      "id": "a4d16dbf",
      "metadata": {
        "id": "a4d16dbf"
      },
      "source": [
        "#### Q5. What happens if one of the slicing expression's indexes is out of range?\n",
        "**Ans:** If start index is out of range then it will return empty entity."
      ]
    },
    {
      "cell_type": "code",
      "execution_count": null,
      "id": "5f827cf4",
      "metadata": {
        "id": "5f827cf4",
        "outputId": "d63a8d09-8ff2-4855-c4f2-f864c235a879"
      },
      "outputs": [
        {
          "name": "stdout",
          "output_type": "stream",
          "text": [
            "my_list -> [1, 2, 3, 4, 5, 6, 7, 8, 9, 10, 11, 12, 13, 14]\n",
            "Case #1 -> []\n",
            "Case #2 -> [11, 12, 13, 14]\n"
          ]
        }
      ],
      "source": [
        "my_list = [x for x in range(1,15)]\n",
        "my_list = [x for x in range(1,15)]\n",
        "print(f'my_list -> {my_list}')\n",
        "print(f'Case #1 -> {my_list[20:]}')\n",
        "print(f'Case #2 -> {my_list[10:100]}')"
      ]
    },
    {
      "cell_type": "markdown",
      "id": "33dbda88",
      "metadata": {
        "id": "33dbda88"
      },
      "source": [
        "#### Q6. If you pass a list to a function, and if you want the function to be able to change the values of the list—so that the list is different after the function returns—what action should you do?\n",
        "**Ans:** Always use **`return`** statement, if we want the see the changes in the input list."
      ]
    },
    {
      "cell_type": "code",
      "execution_count": null,
      "id": "97340aef",
      "metadata": {
        "id": "97340aef",
        "outputId": "25e08c42-78a8-49ed-bb6d-78bbf3e6d4d8"
      },
      "outputs": [
        {
          "name": "stdout",
          "output_type": "stream",
          "text": [
            "[1, 2, 3, 4, 5, 6, 200]\n"
          ]
        }
      ],
      "source": [
        "my_list = [1,2,3,4,5,6]\n",
        "def modify_list(in_list):\n",
        "    in_list.append(200)\n",
        "    return in_list\n",
        "print(modify_list(my_list))"
      ]
    },
    {
      "cell_type": "markdown",
      "id": "6b1caf1f",
      "metadata": {
        "id": "6b1caf1f"
      },
      "source": [
        "#### Q7. What is the concept of an unbalanced matrix?\n",
        "**Ans:** In Unbalanced Matrix number of rows is not same as number of columns."
      ]
    },
    {
      "cell_type": "code",
      "source": [
        "# Python3 program for the above approach\n",
        "# Define the size of the matrix\n",
        "N = 4\n",
        "M = 4\n",
        "\n",
        "# Function to check given matrix\n",
        "# balanced or unbalanced\n",
        "def balancedMatrix(mat):\n",
        "\t\n",
        "\t# Flag for check matrix is balanced\n",
        "\t# or unbalanced\n",
        "\tis_balanced = True\n",
        "\t\n",
        "\t# Iterate row until condition is true\n",
        "\ti = 0\n",
        "\twhile i < N and is_balanced:\n",
        "\t\t\n",
        "\t\t# Iterate cols until condition is true\n",
        "\t\tj = 0\n",
        "\t\twhile j < N and is_balanced:\n",
        "\t\t\t\n",
        "\t\t\t# Check for corner edge elements\n",
        "\t\t\tif ((i == 0 or i == N - 1) and\n",
        "\t\t\t\t(j == 0 or j == M - 1)):\n",
        "\t\t\t\tif mat[i][j] >= 2:\n",
        "\t\t\t\t\tisbalanced = False\n",
        "\t\t\t\n",
        "\t\t\t# Check for border elements\n",
        "\t\t\telif (i == 0 or i == N - 1 or\n",
        "\t\t\t\tj == 0 or j == M - 1):\n",
        "\t\t\t\tif mat[i][j] >= 3:\n",
        "\t\t\t\t\tis_balanced = False\n",
        "\t\t\t\t\t\n",
        "\t\t\t# Check for the middle ones\n",
        "\t\t\telse:\n",
        "\t\t\t\tif mat[i][j] >= 4:\n",
        "\t\t\t\t\tis_balanced = False\n",
        "\t\t\t\n",
        "\t\t\tj += 1\n",
        "\t\ti += 1\n",
        "\t\t\n",
        "\t# Return balanced or not\n",
        "\tif is_balanced:\n",
        "\t\treturn \"Balanced\"\n",
        "\telse:\n",
        "\t\treturn \"Unbalanced\"\n",
        "\t\n",
        "# Driver code\n",
        "\n",
        "# Given matrix mat[][]\n",
        "mat = [ [ 1, 2, 3, 4 ],\n",
        "\t\t[ 3, 5, 2, 6 ],\n",
        "\t\t[ 5, 3, 6, 1 ],\n",
        "\t\t[ 9, 5, 6, 0 ] ]\n",
        "\n",
        "# Function call\n",
        "print(balancedMatrix(mat))\n",
        "\n",
        "\n"
      ],
      "metadata": {
        "colab": {
          "base_uri": "https://localhost:8080/"
        },
        "id": "WsxpIgcJBxJa",
        "outputId": "88f75dcf-18ba-4c55-9820-27e8dd26cd6d"
      },
      "id": "WsxpIgcJBxJa",
      "execution_count": 2,
      "outputs": [
        {
          "output_type": "stream",
          "name": "stdout",
          "text": [
            "Unbalanced\n"
          ]
        }
      ]
    },
    {
      "cell_type": "markdown",
      "id": "95862b0d",
      "metadata": {
        "id": "95862b0d"
      },
      "source": [
        "#### Q8. Why is it necessary to use either list comprehension or a loop to create arbitrarily large matrices?\n",
        "**Ans:**  List comprehension or a Loop helps creation of large matrices easy. it also helps to implemeent and avoid manual errors. It also makes reading code easy. Also lot of time for manual feeding is reduced."
      ]
    },
    {
      "cell_type": "code",
      "source": [
        ""
      ],
      "metadata": {
        "id": "76008HX6B49n"
      },
      "id": "76008HX6B49n",
      "execution_count": null,
      "outputs": []
    }
  ],
  "metadata": {
    "kernelspec": {
      "display_name": "Python 3",
      "language": "python",
      "name": "python3"
    },
    "language_info": {
      "codemirror_mode": {
        "name": "ipython",
        "version": 3
      },
      "file_extension": ".py",
      "mimetype": "text/x-python",
      "name": "python",
      "nbconvert_exporter": "python",
      "pygments_lexer": "ipython3",
      "version": "3.6.13"
    },
    "colab": {
      "name": "Advance_Assignment_13.ipynb",
      "provenance": []
    }
  },
  "nbformat": 4,
  "nbformat_minor": 5
}