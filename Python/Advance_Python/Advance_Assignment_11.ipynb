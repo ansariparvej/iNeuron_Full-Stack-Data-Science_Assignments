{
  "cells": [
    {
      "cell_type": "markdown",
      "id": "344e8e27",
      "metadata": {
        "id": "344e8e27"
      },
      "source": [
        "# Assignment 11 Solutions"
      ]
    },
    {
      "cell_type": "markdown",
      "source": [
        "SUBMITTED BY: PARVEJ ANSARI"
      ],
      "metadata": {
        "id": "L5iiBdv7_jvX"
      },
      "id": "L5iiBdv7_jvX"
    },
    {
      "cell_type": "markdown",
      "id": "11489fdc",
      "metadata": {
        "id": "11489fdc"
      },
      "source": [
        "#### Q1. What is the concept of a metaclass?\n",
        "**Ans:** Metaclass in Python is a class of a class that defines how a class behaves. A class is itself a instance of Metaclass, and any Instance of Class in Python is an Instance of type metaclass. E.g. Type of of `int`, `str`, `float`, `list`, `tuple` and many more is of metaclass type. "
      ]
    },
    {
      "cell_type": "code",
      "source": [
        "# our metaclass\n",
        "class MultiBases(type):\n",
        "\t# overriding __new__ method\n",
        "\tdef __new__(cls, clsname, bases, clsdict):\n",
        "\t\t# if no of base classes is greater than 1\n",
        "\t\t# raise error\n",
        "\t\tif len(bases)>1:\n",
        "\t\t\traise TypeError(\"Inherited multiple base classes!!!\")\n",
        "\t\t\n",
        "\t\t# else execute __new__ method of super class, ie.\n",
        "\t\t# call __init__ of type class\n",
        "\t\treturn super().__new__(cls, clsname, bases, clsdict)\n",
        "\n",
        "# metaclass can be specified by 'metaclass' keyword argument\n",
        "# now MultiBase class is used for creating classes\n",
        "# this will be propagated to all subclasses of Base\n",
        "class Base(metaclass=MultiBases):\n",
        "\tpass\n",
        "\n",
        "# no error is raised\n",
        "class A(Base):\n",
        "\tpass\n",
        "\n",
        "# no error is raised\n",
        "class B(Base):\n",
        "\tpass\n",
        "\n",
        "# This will raise an error!\n",
        "class C(A, B):\n",
        "\tpass\n"
      ],
      "metadata": {
        "id": "JmOSZB0t_5WS"
      },
      "id": "JmOSZB0t_5WS",
      "execution_count": null,
      "outputs": []
    },
    {
      "cell_type": "markdown",
      "id": "a7c66d6f",
      "metadata": {
        "id": "a7c66d6f"
      },
      "source": [
        "#### Q2. What is the best way to declare a class's metaclass?\n",
        "**Ans:** A way to declare a class’ metaclass is by using **`metaclass`** keyword in class definition."
      ]
    },
    {
      "cell_type": "code",
      "execution_count": null,
      "id": "e1a13053",
      "metadata": {
        "id": "e1a13053",
        "outputId": "418dd8d1-196f-4ff2-f5b1-e563b5dc2eb3"
      },
      "outputs": [
        {
          "name": "stdout",
          "output_type": "stream",
          "text": [
            "<class 'type'>\n",
            "<class '__main__.meta'>\n"
          ]
        }
      ],
      "source": [
        "class meta(type):\n",
        "    pass\n",
        "class class_meta(metaclass=meta):\n",
        "    pass\n",
        "print(type(meta))\n",
        "print(type(class_meta))"
      ]
    },
    {
      "cell_type": "markdown",
      "id": "938e3147",
      "metadata": {
        "id": "938e3147"
      },
      "source": [
        "#### Q3. How do class decorators overlap with metaclasses for handling classes ?\n",
        "**Ans:** Anything you can do with a class decorator, you can of course do with a custom metaclasses (just apply the functionality of the \"decorator function\", i.e., the one that takes a class object and modifies it, in the course of the metaclass's **`__new__`** or **`__init__`** that make the class object!)."
      ]
    },
    {
      "cell_type": "markdown",
      "id": "3f57ffac",
      "metadata": {
        "id": "3f57ffac"
      },
      "source": [
        "#### Q4. How do class decorators overlap with metaclasses for handling instances?\n",
        "**Ans:**  Anything you can do with a class decorator, you can of course do with a custom metaclass (just apply the functionality of the \"decorator function\", i.e., the one that takes a class object and modifies it, in the course of the metaclass's **`__new__`** or **`__init__`** that make the class object!)."
      ]
    }
  ],
  "metadata": {
    "kernelspec": {
      "display_name": "Python 3",
      "language": "python",
      "name": "python3"
    },
    "language_info": {
      "codemirror_mode": {
        "name": "ipython",
        "version": 3
      },
      "file_extension": ".py",
      "mimetype": "text/x-python",
      "name": "python",
      "nbconvert_exporter": "python",
      "pygments_lexer": "ipython3",
      "version": "3.6.13"
    },
    "colab": {
      "name": "Advance_Assignment_11.ipynb",
      "provenance": [],
      "collapsed_sections": []
    }
  },
  "nbformat": 4,
  "nbformat_minor": 5
}