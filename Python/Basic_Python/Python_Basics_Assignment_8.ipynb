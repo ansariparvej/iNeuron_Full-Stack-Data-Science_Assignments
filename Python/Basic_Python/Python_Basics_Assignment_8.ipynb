{
  "cells": [
    {
      "cell_type": "markdown",
      "id": "bd4844c1",
      "metadata": {
        "id": "bd4844c1"
      },
      "source": [
        "# Assignment 8 Solutions"
      ]
    },
    {
      "cell_type": "markdown",
      "source": [
        "SUBMITTED BY: PARVEJ ANSARI"
      ],
      "metadata": {
        "id": "GK6SqJNJaELg"
      },
      "id": "GK6SqJNJaELg"
    },
    {
      "cell_type": "code",
      "source": [
        "!pip install PyInputPlus"
      ],
      "metadata": {
        "id": "kaVedZyFaV0d"
      },
      "id": "kaVedZyFaV0d",
      "execution_count": null,
      "outputs": []
    },
    {
      "cell_type": "markdown",
      "id": "215594ca",
      "metadata": {
        "id": "215594ca"
      },
      "source": [
        "#### 1. Is the Python Standard Library included with PyInputPlus?\n",
        "**Ans:** No, **`PyInputPlus`** is not a part of Python Standard Library, it needs to be installed explicitly using the command **`!pip install PyInputPlus`**"
      ]
    },
    {
      "cell_type": "markdown",
      "id": "76a769e0",
      "metadata": {
        "id": "76a769e0"
      },
      "source": [
        "#### 2. Why is PyInputPlus commonly imported with import pyinputplus as pypi?\n",
        "**Ans:** You can import the module with **`import pyinputplus as pypi`** so that you can enter a shorter name when calling the module's functions."
      ]
    },
    {
      "cell_type": "code",
      "source": [
        "import pyinputplus as pypi"
      ],
      "metadata": {
        "id": "y8xwpD3uabjq"
      },
      "id": "y8xwpD3uabjq",
      "execution_count": 2,
      "outputs": []
    },
    {
      "cell_type": "markdown",
      "id": "5d578dfb",
      "metadata": {
        "id": "5d578dfb"
      },
      "source": [
        "#### 3. How do you distinguish between inputInt() and inputFloat()?\n",
        "**Ans:** **`inputInt()`** function Accepts an integer value. This also takes additional parameters **`min`**, **`max`**, **`greaterThan`** and **`lessThan`** for bounds. And it always returns an int.\n",
        "\n",
        "Whereas **`inputFloat()`** function Accepts a floating-point numeric value. this also takes additional **`min`**, **`max`**, **`greaterThan`** and **`lessThan`** parameters. and always returns a float."
      ]
    },
    {
      "cell_type": "code",
      "source": [
        "inp = pypi.inputInt(prompt = \"Enter an Integer... \", \n",
        "                    default = 0, limit = 3)\n",
        "  \n",
        "print(inp)\n",
        "\n",
        "inp2 = pypi.inputFloat(prompt = \"Enter Float value... \", \n",
        "                    default = 0, limit = 3)\n",
        "  \n",
        "print(inp2)"
      ],
      "metadata": {
        "colab": {
          "base_uri": "https://localhost:8080/"
        },
        "id": "g2GwvffBadoN",
        "outputId": "4f614fc6-c982-4d35-b7e2-83e5789b1135"
      },
      "id": "g2GwvffBadoN",
      "execution_count": 6,
      "outputs": [
        {
          "output_type": "stream",
          "name": "stdout",
          "text": [
            "Enter an Integer... 10\n",
            "10\n",
            "Enter Float value... 10\n",
            "10.0\n"
          ]
        }
      ]
    },
    {
      "cell_type": "markdown",
      "id": "5a276409",
      "metadata": {
        "id": "5a276409"
      },
      "source": [
        "#### 4. Using PyInputPlus, how do you ensure that the user enters a whole number between 0 and 99?\n",
        "**Ans:** **`PyInputPlus`** module provides a function called as **`inputInt()`** which only returns only integer values. inorder to restrict the input between 0 and 99, i'ii use parameters like **`min`** & **`max`** to ensure that user enters the values between the defined range only.\n",
        "\n",
        "`import pyinputplus as pyip`  \n",
        "`wholenumber = pyip.inputInt(prompt='Enter a number: ', min=0, max=100)`   \n",
        "`print(wholenumber)`  "
      ]
    },
    {
      "cell_type": "code",
      "source": [
        "import pyinputplus as pyip\n",
        "wholenumber = pyip.inputInt(prompt='Enter a number: ', min=0, max=100) \n",
        "print(wholenumber)"
      ],
      "metadata": {
        "colab": {
          "base_uri": "https://localhost:8080/"
        },
        "id": "hhZgUQuTbKuH",
        "outputId": "ce8c5895-cb8d-4174-d893-b291a2c8ef2b"
      },
      "id": "hhZgUQuTbKuH",
      "execution_count": 7,
      "outputs": [
        {
          "output_type": "stream",
          "name": "stdout",
          "text": [
            "Enter a number: 189\n",
            "Number must be at maximum 100.\n",
            "Enter a number: 98\n",
            "98\n"
          ]
        }
      ]
    },
    {
      "cell_type": "markdown",
      "id": "a3266159",
      "metadata": {
        "id": "a3266159"
      },
      "source": [
        "#### 5. What is transferred to the keyword arguments allowRegexes and blockRegexes?\n",
        "**Ans:** we can use **`allowRegexes`** and **`blockRegexes`** keyword arguments to take list of regular expression strings to determine\n",
        "what the pyinputplus function will reject or accept valid input."
      ]
    },
    {
      "cell_type": "markdown",
      "id": "20251b09",
      "metadata": {
        "id": "20251b09"
      },
      "source": [
        "#### 6. If a blank input is entered three times, what does inputStr(limit=3) do?\n",
        "**Ans:** The statement **`inputStr(limit=3)`** will throw two exceptions **`ValidationException`** and **`RetryLimitException`**. The first exception is thrown because blank values are not allowed by inputStr() function by default. it we want to consider blank values as valid input, we have to set **`blank=True`**.\n",
        "\n",
        "The second exception is occured because we have reached the max limit we have specified by using **`limit`** parameter. inorder to avoid this exception we can use **`default`** parameter to return a default value when max limit is reached."
      ]
    },
    {
      "cell_type": "markdown",
      "id": "a57b26ea",
      "metadata": {
        "id": "a57b26ea"
      },
      "source": [
        "#### 7. If blank input is entered three times, what does inputStr(limit=3, default='hello') do?\n",
        "**Ans:** Since the default parameter is set to **`hello`**. after blank input is entered three times instead of raising **`RetryLimitException`** exception. the function will return **`hello`** as response to the calling function"
      ]
    }
  ],
  "metadata": {
    "kernelspec": {
      "display_name": "Python 3",
      "language": "python",
      "name": "python3"
    },
    "language_info": {
      "codemirror_mode": {
        "name": "ipython",
        "version": 3
      },
      "file_extension": ".py",
      "mimetype": "text/x-python",
      "name": "python",
      "nbconvert_exporter": "python",
      "pygments_lexer": "ipython3",
      "version": "3.8.8"
    },
    "colab": {
      "name": "Python Basics Assignment_8.ipynb",
      "provenance": [],
      "collapsed_sections": []
    }
  },
  "nbformat": 4,
  "nbformat_minor": 5
}