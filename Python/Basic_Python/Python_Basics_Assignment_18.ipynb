{
  "cells": [
    {
      "cell_type": "markdown",
      "id": "008a10cf",
      "metadata": {
        "id": "008a10cf"
      },
      "source": [
        "# Assignment 18 Solutions"
      ]
    },
    {
      "cell_type": "markdown",
      "source": [
        "SUBMITTED BY: PARVEJ ANSARI"
      ],
      "metadata": {
        "id": "uzYDKCNcJHGl"
      },
      "id": "uzYDKCNcJHGl"
    },
    {
      "cell_type": "code",
      "execution_count": null,
      "id": "ceee30c4-2e1d-4191-9069-33d032e6b72f",
      "metadata": {
        "id": "ceee30c4-2e1d-4191-9069-33d032e6b72f",
        "outputId": "62c36318-e8c4-4b0b-b98b-25573c7f6bc9"
      },
      "outputs": [
        {
          "name": "stdout",
          "output_type": "stream",
          "text": [
            "def hours():\n",
            "    print(\"Open 9-5 daily\")\n"
          ]
        }
      ],
      "source": [
        "!type zoo.py"
      ]
    },
    {
      "cell_type": "markdown",
      "id": "4b0045ff",
      "metadata": {
        "id": "4b0045ff"
      },
      "source": [
        "#### 1. Create a zoo.py file first. Define the hours() function, which prints the string 'Open 9-5 daily'. Then, use the interactive interpreter to import the zoo module and call its hours() function."
      ]
    },
    {
      "cell_type": "code",
      "execution_count": null,
      "id": "6ccab705",
      "metadata": {
        "id": "6ccab705",
        "outputId": "e855e5a9-c3b5-48a9-c7e0-8c58b7d8c035"
      },
      "outputs": [
        {
          "name": "stdout",
          "output_type": "stream",
          "text": [
            "Open 9-5 daily\n"
          ]
        }
      ],
      "source": [
        "import zoo\n",
        "zoo.hours()"
      ]
    },
    {
      "cell_type": "markdown",
      "id": "77c06807",
      "metadata": {
        "id": "77c06807"
      },
      "source": [
        "#### 2. In the interactive interpreter, import the zoo module as menagerie and call its hours() function."
      ]
    },
    {
      "cell_type": "code",
      "execution_count": null,
      "id": "e907fa84",
      "metadata": {
        "id": "e907fa84",
        "outputId": "2a4fa914-b611-4f49-838b-0ab45359c9ce"
      },
      "outputs": [
        {
          "name": "stdout",
          "output_type": "stream",
          "text": [
            "Open 9-5 daily\n"
          ]
        }
      ],
      "source": [
        "import zoo as menagerie\n",
        "menagerie.hours()"
      ]
    },
    {
      "cell_type": "markdown",
      "id": "7674c3cd",
      "metadata": {
        "id": "7674c3cd"
      },
      "source": [
        "#### 3. Using the interpreter, explicitly import and call the hours() function from zoo."
      ]
    },
    {
      "cell_type": "code",
      "execution_count": null,
      "id": "5cd291d4",
      "metadata": {
        "id": "5cd291d4",
        "outputId": "6d4fb5e6-7a19-487b-8599-a2d816f38fcd"
      },
      "outputs": [
        {
          "name": "stdout",
          "output_type": "stream",
          "text": [
            "Open 9-5 daily\n"
          ]
        }
      ],
      "source": [
        "from zoo import hours\n",
        "hours()"
      ]
    },
    {
      "cell_type": "markdown",
      "id": "1b939228",
      "metadata": {
        "id": "1b939228"
      },
      "source": [
        "#### 4. Import the hours() function as info and call it."
      ]
    },
    {
      "cell_type": "code",
      "execution_count": null,
      "id": "ad74dc37",
      "metadata": {
        "id": "ad74dc37",
        "outputId": "c33efe78-ebc6-40ef-9125-ad2b7dc02420"
      },
      "outputs": [
        {
          "name": "stdout",
          "output_type": "stream",
          "text": [
            "Open 9-5 daily\n"
          ]
        }
      ],
      "source": [
        "from zoo import hours as info\n",
        "info()"
      ]
    },
    {
      "cell_type": "markdown",
      "id": "8ff06188",
      "metadata": {
        "id": "8ff06188"
      },
      "source": [
        "#### 5. Create a plain dictionary with the key-value pairs 'a': 1, 'b': 2, and 'c': 3, and print it out."
      ]
    },
    {
      "cell_type": "code",
      "execution_count": null,
      "id": "fbec4dfb",
      "metadata": {
        "id": "fbec4dfb",
        "outputId": "4ae5bbb5-3497-40fe-b6ec-f5729501990b"
      },
      "outputs": [
        {
          "name": "stdout",
          "output_type": "stream",
          "text": [
            "{'a': 1, 'b': 2, 'c': 3}\n"
          ]
        }
      ],
      "source": [
        "plain_dict = {'a':1,'b':2,'c':3}\n",
        "print(plain_dict)"
      ]
    },
    {
      "cell_type": "markdown",
      "id": "096c1b21",
      "metadata": {
        "id": "096c1b21"
      },
      "source": [
        "#### 6.Make an OrderedDict called fancy from the same pairs listed in 5 and print it. Did it print in the same order as plain?"
      ]
    },
    {
      "cell_type": "code",
      "execution_count": null,
      "id": "dd606af8",
      "metadata": {
        "id": "dd606af8",
        "outputId": "d15ae280-9760-4876-bba0-e9ad44a42b95"
      },
      "outputs": [
        {
          "name": "stdout",
          "output_type": "stream",
          "text": [
            "plain_dict -> {'a': 1, 'b': 2, 'c': 3}\n",
            "fancy -> OrderedDict([('a', 1), ('b', 2), ('c', 3)])\n"
          ]
        }
      ],
      "source": [
        "from collections import OrderedDict\n",
        "fancy = OrderedDict(plain_dict)\n",
        "print(f'plain_dict -> {plain_dict}')\n",
        "print(f'fancy -> {fancy}')"
      ]
    },
    {
      "cell_type": "markdown",
      "id": "e55d1c69",
      "metadata": {
        "id": "e55d1c69"
      },
      "source": [
        "#### 7. Make a default dictionary called dict_of_lists and pass it the argument list. Make the list dict_of_lists['a'] and append the value 'something for a' to it in one assignment. Print dict_of_lists['a']."
      ]
    },
    {
      "cell_type": "code",
      "execution_count": null,
      "id": "264fc2cd",
      "metadata": {
        "id": "264fc2cd",
        "outputId": "2aa47fa0-65bd-463c-8828-a9ca6fc92a45"
      },
      "outputs": [
        {
          "name": "stdout",
          "output_type": "stream",
          "text": [
            "['something for a']\n"
          ]
        }
      ],
      "source": [
        "from collections import defaultdict\n",
        "dict_of_lists = defaultdict(list)\n",
        "dict_of_lists['a'].append('something for a')\n",
        "print(dict_of_lists['a'])"
      ]
    }
  ],
  "metadata": {
    "kernelspec": {
      "display_name": "Python 3 (ipykernel)",
      "language": "python",
      "name": "python3"
    },
    "language_info": {
      "codemirror_mode": {
        "name": "ipython",
        "version": 3
      },
      "file_extension": ".py",
      "mimetype": "text/x-python",
      "name": "python",
      "nbconvert_exporter": "python",
      "pygments_lexer": "ipython3",
      "version": "3.8.8"
    },
    "colab": {
      "name": "Python Basics Assignment_18.ipynb",
      "provenance": [],
      "collapsed_sections": []
    }
  },
  "nbformat": 4,
  "nbformat_minor": 5
}