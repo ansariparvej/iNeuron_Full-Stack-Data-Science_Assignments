{
  "cells": [
    {
      "cell_type": "markdown",
      "id": "d09f5fba",
      "metadata": {
        "id": "d09f5fba"
      },
      "source": [
        "# Assignment 20 Solutions"
      ]
    },
    {
      "cell_type": "markdown",
      "source": [
        "SUBMITTED BY: PARVEJ ANSARI"
      ],
      "metadata": {
        "id": "_JkWS2EWLz9O"
      },
      "id": "_JkWS2EWLz9O"
    },
    {
      "cell_type": "markdown",
      "id": "94c15b38",
      "metadata": {
        "id": "94c15b38"
      },
      "source": [
        "#### 1. Set the variable test1 to the string 'This is a test of the emergency text system,' and save test1 to a file named test.txt."
      ]
    },
    {
      "cell_type": "code",
      "execution_count": null,
      "id": "25e840b0",
      "metadata": {
        "id": "25e840b0",
        "outputId": "0f76f54d-157e-4f12-930f-f8a8dd389418"
      },
      "outputs": [
        {
          "name": "stdout",
          "output_type": "stream",
          "text": [
            "This is a test of the emergency text system,\n"
          ]
        }
      ],
      "source": [
        "test1 = 'This is a test of the emergency text system,'\n",
        "print(test1)\n",
        "with open('test.txt','w') as file:\n",
        "    file.write(test1)\n",
        "    file.close()"
      ]
    },
    {
      "cell_type": "code",
      "execution_count": null,
      "id": "43e784ce-0c03-41a0-994f-c20551df74e8",
      "metadata": {
        "id": "43e784ce-0c03-41a0-994f-c20551df74e8",
        "outputId": "0cbdf040-1bc7-4b13-f05f-5bbeb5cbf03d"
      },
      "outputs": [
        {
          "name": "stdout",
          "output_type": "stream",
          "text": [
            "This is a test of the emergency text system,\n"
          ]
        }
      ],
      "source": [
        "# read the contents of test.txt\n",
        "! type test.txt "
      ]
    },
    {
      "cell_type": "markdown",
      "id": "5661169a",
      "metadata": {
        "id": "5661169a"
      },
      "source": [
        "#### 2. Read the contents of the file test.txt into the variable test2. Is there a difference between test 1 and test 2?"
      ]
    },
    {
      "cell_type": "code",
      "execution_count": null,
      "id": "8b923630",
      "metadata": {
        "id": "8b923630",
        "outputId": "c7a21cf7-d208-4be9-c541-e89d1b81d85a"
      },
      "outputs": [
        {
          "name": "stdout",
          "output_type": "stream",
          "text": [
            "This is a test of the emergency text system,\n",
            "True\n"
          ]
        }
      ],
      "source": [
        "with open('test.txt','r') as file:\n",
        "    test2 = file.read()\n",
        "    \n",
        "print(test2)   \n",
        "print(test1 == test2)"
      ]
    },
    {
      "cell_type": "markdown",
      "id": "baec82d2",
      "metadata": {
        "id": "baec82d2"
      },
      "source": [
        "#### 3. Create a CSV file called books.csv by using these lines:\n",
        "`title,author,year`  \n",
        "`The Weirdstone of Brisingamen,Alan Garner,1960`  \n",
        "`Perdido Street Station,China Miéville,2000`  \n",
        "`Thud!,Terry Pratchett,2005`  \n",
        "`The Spellman Files,Lisa Lutz,2007`  \n",
        "`Small Gods,Terry Pratchett,1992`"
      ]
    },
    {
      "cell_type": "code",
      "execution_count": null,
      "id": "5a8b0840",
      "metadata": {
        "id": "5a8b0840"
      },
      "outputs": [],
      "source": [
        "data = '''title,author,year\n",
        "The Weirdstone of Brisingamen,Alan Garner,1960\n",
        "Perdido Street Station,China Miéville,2000\n",
        "Thud!,Terry Pratchett,2005\n",
        "The Spellman Files,Lisa Lutz,2007\n",
        "Small Gods,Terry Pratchett,1992'''\n",
        "\n",
        "with open('books.csv','w') as file:\n",
        "    file.write(data)"
      ]
    },
    {
      "cell_type": "markdown",
      "id": "2182eeba",
      "metadata": {
        "id": "2182eeba"
      },
      "source": [
        "#### 4. Use the sqlite3 module to create a SQLite database called books.db, and a table called books with these fields: title (text), author (text), and year (integer)."
      ]
    },
    {
      "cell_type": "code",
      "execution_count": null,
      "id": "a184138e",
      "metadata": {
        "id": "a184138e"
      },
      "outputs": [],
      "source": [
        "import sqlite3\n",
        "db = sqlite3.connect('books.db')\n",
        "cursor = db.cursor()\n",
        "cursor.execute(\"CREATE TABLE books (title text, author text, year int)\")\n",
        "db.commit()\n",
        "db.close()"
      ]
    },
    {
      "cell_type": "markdown",
      "id": "eb7f88c5",
      "metadata": {
        "id": "eb7f88c5"
      },
      "source": [
        "#### 5. Read books.csv and insert its data into the books table."
      ]
    },
    {
      "cell_type": "code",
      "execution_count": null,
      "id": "59e71d93",
      "metadata": {
        "id": "59e71d93"
      },
      "outputs": [],
      "source": [
        "import sqlite3\n",
        "import csv\n",
        "conn = sqlite3.connect(\"books.db\")\n",
        "cursor = conn.cursor()\n",
        "with open(\"books.csv\",\"r\") as file:\n",
        "    books = csv.DictReader(file)\n",
        "    for book in books:\n",
        "        cursor.execute(\"INSERT INTO books VALUES (?,?,?)\",(book['title'],book['author'],book['year']))\n",
        "conn.commit()\n",
        "conn.close()"
      ]
    },
    {
      "cell_type": "markdown",
      "id": "023dce44",
      "metadata": {
        "id": "023dce44"
      },
      "source": [
        "#### 6. Select and print the title column from the books table in alphabetical order."
      ]
    },
    {
      "cell_type": "code",
      "execution_count": null,
      "id": "a2be54a2",
      "metadata": {
        "id": "a2be54a2",
        "outputId": "fe32750d-18e7-484c-a90b-2e08db727497"
      },
      "outputs": [
        {
          "name": "stdout",
          "output_type": "stream",
          "text": [
            "Perdido Street Station\n",
            "Small Gods\n",
            "The Spellman Files\n",
            "The Weirdstone of Brisingamen\n",
            "Thud!\n"
          ]
        }
      ],
      "source": [
        "import sqlite3\n",
        "conn = sqlite3.connect('books.db')\n",
        "cursor = conn.cursor()\n",
        "output = cursor.execute(\"SELECT title FROM books ORDER BY title ASC\")\n",
        "for ele in output:\n",
        "    print(ele[0])\n",
        "conn.commit()\n",
        "conn.close()"
      ]
    },
    {
      "cell_type": "markdown",
      "id": "d9c960c1",
      "metadata": {
        "id": "d9c960c1"
      },
      "source": [
        "#### 7. From the books table, select and print all columns in the order of publication."
      ]
    },
    {
      "cell_type": "code",
      "execution_count": null,
      "id": "dc95077c",
      "metadata": {
        "id": "dc95077c",
        "outputId": "528f3cf9-4980-488d-e74d-39aaebd878a6"
      },
      "outputs": [
        {
          "name": "stdout",
          "output_type": "stream",
          "text": [
            "('The Weirdstone of Brisingamen', 'Alan Garner', 1960)\n",
            "('Small Gods', 'Terry Pratchett', 1992)\n",
            "('Perdido Street Station', 'China Miéville', 2000)\n",
            "('Thud!', 'Terry Pratchett', 2005)\n",
            "('The Spellman Files', 'Lisa Lutz', 2007)\n"
          ]
        }
      ],
      "source": [
        "import sqlite3\n",
        "conn = sqlite3.connect('books.db')\n",
        "cursor = conn.cursor()\n",
        "ouput = cursor.execute(\"SELECT * FROM books ORDER BY year\")\n",
        "for record in ouput:\n",
        "    print(record)"
      ]
    },
    {
      "cell_type": "markdown",
      "id": "f3ec47e1",
      "metadata": {
        "id": "f3ec47e1"
      },
      "source": [
        "#### 8. Use the sqlalchemy module to connect to the sqlite3 database books.db that you just made in exercise 6."
      ]
    },
    {
      "cell_type": "code",
      "execution_count": null,
      "id": "63a761be",
      "metadata": {
        "id": "63a761be",
        "outputId": "cabf9182-17cc-4fe5-c28d-04c4a7044b59"
      },
      "outputs": [
        {
          "data": {
            "text/plain": [
              "Engine(sqlite:///books.db)"
            ]
          },
          "execution_count": 9,
          "metadata": {},
          "output_type": "execute_result"
        }
      ],
      "source": [
        "import sqlalchemy\n",
        "conn = sqlalchemy.create_engine('sqlite:///books.db')\n",
        "conn"
      ]
    },
    {
      "cell_type": "markdown",
      "id": "405ddc1f",
      "metadata": {
        "id": "405ddc1f"
      },
      "source": [
        "#### 9. Install the Redis server and the Python redis library (pip install redis) on your computer. Create a Redis hash called test with the fields count (1) and name ('Fester Bestertester'). Print all the fields for test."
      ]
    },
    {
      "cell_type": "code",
      "execution_count": null,
      "id": "4650d673",
      "metadata": {
        "id": "4650d673",
        "outputId": "a83d0373-d3aa-4e7e-d153-925cdd535992"
      },
      "outputs": [
        {
          "name": "stdout",
          "output_type": "stream",
          "text": [
            "Requirement already satisfied: redis in c:\\programdata\\anaconda3\\lib\\site-packages (3.5.3)\n"
          ]
        }
      ],
      "source": [
        "! python -m pip install redis"
      ]
    },
    {
      "cell_type": "code",
      "execution_count": null,
      "id": "4e5ccdf0",
      "metadata": {
        "id": "4e5ccdf0"
      },
      "outputs": [],
      "source": [
        "import redis\n",
        "conn = redis.Redis()\n",
        "conn.hset('test',{\n",
        "    'count':1,\n",
        "    'name':'Fester Bestertester'\n",
        "})\n",
        "conn.hgetall('test')"
      ]
    },
    {
      "cell_type": "markdown",
      "id": "2c69b326",
      "metadata": {
        "id": "2c69b326"
      },
      "source": [
        "#### 10. Increment the count field of test and print it."
      ]
    },
    {
      "cell_type": "code",
      "execution_count": null,
      "id": "07a3b052",
      "metadata": {
        "id": "07a3b052",
        "outputId": "0a9bf8c1-1085-4c79-af75-14a1b2d9e443"
      },
      "outputs": [
        {
          "data": {
            "text/plain": [
              "b'13'"
            ]
          },
          "execution_count": 14,
          "metadata": {},
          "output_type": "execute_result"
        }
      ],
      "source": [
        "conn.hincrby('test', 'count', 1)\n",
        "conn.hget('test', 'count')"
      ]
    }
  ],
  "metadata": {
    "kernelspec": {
      "display_name": "Python 3",
      "language": "python",
      "name": "python3"
    },
    "language_info": {
      "codemirror_mode": {
        "name": "ipython",
        "version": 3
      },
      "file_extension": ".py",
      "mimetype": "text/x-python",
      "name": "python",
      "nbconvert_exporter": "python",
      "pygments_lexer": "ipython3",
      "version": "3.8.8"
    },
    "colab": {
      "name": "Python Basics Assignment_20.ipynb",
      "provenance": [],
      "collapsed_sections": []
    }
  },
  "nbformat": 4,
  "nbformat_minor": 5
}