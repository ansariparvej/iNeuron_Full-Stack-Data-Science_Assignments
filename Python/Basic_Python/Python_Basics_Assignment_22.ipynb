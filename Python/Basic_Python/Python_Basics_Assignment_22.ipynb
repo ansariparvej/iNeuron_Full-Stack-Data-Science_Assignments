{
  "cells": [
    {
      "cell_type": "markdown",
      "id": "80a0e3c4",
      "metadata": {
        "id": "80a0e3c4"
      },
      "source": [
        "# Assignment 22 Solutions"
      ]
    },
    {
      "cell_type": "markdown",
      "source": [
        "SUBMITTED BY: PARVEJ ANSARI"
      ],
      "metadata": {
        "id": "7muSEQ2aXGkk"
      },
      "id": "7muSEQ2aXGkk"
    },
    {
      "cell_type": "markdown",
      "id": "a091ea5b",
      "metadata": {
        "id": "a091ea5b"
      },
      "source": [
        "#### 1. What is the result of the code, and explain?\n",
        "`>>> X = 'iNeuron'`  \n",
        "`>>> def func():`  \n",
        "`    print(X)`  \n",
        "`>>> func()`  \n",
        "**Ans:** The Result of this code is `iNeuron`. it is because the function intially looks for the variable `X` in its local scope but since there is no local variable `X`, it returns the value of global variable `X` i.e `iNeuron`. Please find the output below:"
      ]
    },
    {
      "cell_type": "code",
      "execution_count": null,
      "id": "ee98b909",
      "metadata": {
        "id": "ee98b909",
        "outputId": "8a9bea6a-0342-4c09-997a-30a938c43ebb"
      },
      "outputs": [
        {
          "name": "stdout",
          "output_type": "stream",
          "text": [
            "iNeuron\n"
          ]
        }
      ],
      "source": [
        "X = 'iNeuron'\n",
        "def func():\n",
        "    print(X)\n",
        "func()"
      ]
    },
    {
      "cell_type": "markdown",
      "id": "ef65e0b3",
      "metadata": {
        "id": "ef65e0b3"
      },
      "source": [
        "#### 2. What is the result of the code, and explain?\n",
        "`>>> X = 'iNeuron'`  \n",
        "`>>> def func():`  \n",
        "`X = 'NI!'`  \n",
        "`>>> func()`  \n",
        "`>>> print(X)`  \n",
        "**Ans:** The Result of this code is `NI!` because the function initially looks for the variable `X` in its local scope. If `X` is not available, then it checks for variable `X` in the global scope. Since here the `X` is present in the local scope, it directly prints the value `NI!` and does not look for a variable in global scope."
      ]
    },
    {
      "cell_type": "code",
      "execution_count": 1,
      "id": "8f219394",
      "metadata": {
        "colab": {
          "base_uri": "https://localhost:8080/"
        },
        "id": "8f219394",
        "outputId": "3f5bdb6c-0958-4b6c-d244-ab16fb8da9af"
      },
      "outputs": [
        {
          "output_type": "stream",
          "name": "stdout",
          "text": [
            "NI!\n"
          ]
        }
      ],
      "source": [
        "X = 'iNeuron'\n",
        "def func():\n",
        "    X = 'NI!'\n",
        "    print(X)\n",
        "func()"
      ]
    },
    {
      "cell_type": "markdown",
      "id": "952c9d0e",
      "metadata": {
        "id": "952c9d0e"
      },
      "source": [
        "#### 3. What does this code print, and why?\n",
        "`>>> X = 'iNeuron'`  \n",
        "`>>> def func():`  \n",
        "`X = 'NI'`  \n",
        "`print(X)`  \n",
        "`>>> func()`  \n",
        "`>>> print(X)`   \n",
        "**Ans:** The output of the code is `NI` and `iNeuron`. `X=NI` is in the local scope of the function `func()`. Hence the function prints the x value as  `NI`.  `X = 'iNeuron'` is in the global scope. Hence `print(X)` prints output as `iNeuron`"
      ]
    },
    {
      "cell_type": "code",
      "execution_count": null,
      "id": "cabebabc",
      "metadata": {
        "id": "cabebabc",
        "outputId": "dd4558c1-40f1-40c1-d64c-2eab57ba9b43"
      },
      "outputs": [
        {
          "name": "stdout",
          "output_type": "stream",
          "text": [
            "NI\n",
            "iNeuron\n"
          ]
        }
      ],
      "source": [
        "X = 'iNeuron'\n",
        "def func():\n",
        "    X = 'NI'\n",
        "    print(X)\n",
        "func()\n",
        "print(X)"
      ]
    },
    {
      "cell_type": "markdown",
      "id": "905d8b7b",
      "metadata": {
        "id": "905d8b7b"
      },
      "source": [
        "#### 4. What output does this code produce? Why?\n",
        "`>>> X = 'iNeuron'`   \n",
        "`>>> def func():`   \n",
        "`global X`   \n",
        "`X = 'NI'`   \n",
        "`>>> func()`   \n",
        "`>>> print(X)`   \n",
        "**Ans:** The output of the code is `NI`. The `global` keyword allows a variable to be accessible in the current scope. Since we are using global keyword inside the function `func`, it directly accesses the variable in `X` in global scope and changes its value to `NI`. Hence the output of the code is `NI` as shown below."
      ]
    },
    {
      "cell_type": "code",
      "execution_count": 2,
      "id": "64e260a6",
      "metadata": {
        "colab": {
          "base_uri": "https://localhost:8080/"
        },
        "id": "64e260a6",
        "outputId": "8077b6c4-beb6-4b8e-d6f8-1122c20f1d92"
      },
      "outputs": [
        {
          "output_type": "stream",
          "name": "stdout",
          "text": [
            "NI\n"
          ]
        }
      ],
      "source": [
        "X = 'iNeuron'\n",
        "def func():\n",
        "    global X\n",
        "    X = 'NI'\n",
        "func()\n",
        "print(X)"
      ]
    },
    {
      "cell_type": "markdown",
      "id": "1c755c9f",
      "metadata": {
        "id": "1c755c9f"
      },
      "source": [
        "#### 5. What about this code—what’s the output, and why?\n",
        "`>>> X = 'iNeuron'`   \n",
        "`>>> def func():`   \n",
        "`X = 'NI'`   \n",
        "`def nested():`   \n",
        "`print(X)`   \n",
        "`nested()`   \n",
        "`>>> func()`   \n",
        "`>>> X`   \n",
        "**Ans:** The output of the code is `NI` and `iNeuron`. Output of func() is 'NI' because it has a variable X as 'NI' in its local scope whereas Output of X is 'iNeuron' because it refers to variable X that is having global scope instead of referring to a variable having a local scope in a function."
      ]
    },
    {
      "cell_type": "code",
      "execution_count": 3,
      "id": "9fd84bb5",
      "metadata": {
        "colab": {
          "base_uri": "https://localhost:8080/",
          "height": 53
        },
        "id": "9fd84bb5",
        "outputId": "bbe3bd5d-325c-4973-c25a-ea95e1e26a6a"
      },
      "outputs": [
        {
          "output_type": "stream",
          "name": "stdout",
          "text": [
            "NI\n"
          ]
        },
        {
          "output_type": "execute_result",
          "data": {
            "text/plain": [
              "'iNeuron'"
            ],
            "application/vnd.google.colaboratory.intrinsic+json": {
              "type": "string"
            }
          },
          "metadata": {},
          "execution_count": 3
        }
      ],
      "source": [
        "X = 'iNeuron'\n",
        "def func():\n",
        "    X = 'NI'\n",
        "    def nested():\n",
        "        print(X)\n",
        "    nested()\n",
        "func()\n",
        "X"
      ]
    },
    {
      "cell_type": "markdown",
      "id": "f8c745c5",
      "metadata": {
        "id": "f8c745c5"
      },
      "source": [
        "#### 6. How about this code: what is its output in Python 3, and explain?\n",
        "`>>> def func():`  \n",
        "`X = 'NI'`  \n",
        "`def nested():`  \n",
        "`nonlocal X`  \n",
        "`X = 'Spam'`  \n",
        "`nested()`  \n",
        "`print(X)`  \n",
        "`>>> func()`  \n",
        "**Ans:** The output of the code is `Spam`. `nonlocal` keyword in python is used to declare a variable as not local.Hence the statement `X = \"Spam\"` is modified in the global scope. Hence the output of `print(X)` statement is `Spam`"
      ]
    },
    {
      "cell_type": "code",
      "execution_count": 4,
      "id": "9fab6b46",
      "metadata": {
        "colab": {
          "base_uri": "https://localhost:8080/"
        },
        "id": "9fab6b46",
        "outputId": "a830dbea-29f0-43d5-cee0-d986795a90ee"
      },
      "outputs": [
        {
          "output_type": "stream",
          "name": "stdout",
          "text": [
            "Spam\n"
          ]
        }
      ],
      "source": [
        "def func():\n",
        "    X = 'NI'\n",
        "    def nested():\n",
        "        nonlocal X\n",
        "        X = 'Spam'\n",
        "    nested()\n",
        "    print(X)\n",
        "func()"
      ]
    }
  ],
  "metadata": {
    "kernelspec": {
      "display_name": "Python 3",
      "language": "python",
      "name": "python3"
    },
    "language_info": {
      "codemirror_mode": {
        "name": "ipython",
        "version": 3
      },
      "file_extension": ".py",
      "mimetype": "text/x-python",
      "name": "python",
      "nbconvert_exporter": "python",
      "pygments_lexer": "ipython3",
      "version": "3.8.8"
    },
    "colab": {
      "name": "Python Basics Assignment_22.ipynb",
      "provenance": [],
      "collapsed_sections": []
    }
  },
  "nbformat": 4,
  "nbformat_minor": 5
}