{
  "cells": [
    {
      "cell_type": "markdown",
      "id": "984b4513",
      "metadata": {
        "id": "984b4513"
      },
      "source": [
        "# Assignment 21 Solutions"
      ]
    },
    {
      "cell_type": "markdown",
      "source": [
        "SUBMITTED BY: PARVEJ ANSARI"
      ],
      "metadata": {
        "id": "rLBMjuD5KKR5"
      },
      "id": "rLBMjuD5KKR5"
    },
    {
      "cell_type": "markdown",
      "id": "4fe8b19e",
      "metadata": {
        "id": "4fe8b19e"
      },
      "source": [
        "#### 1. Add the current date to the text file today.txt as a string."
      ]
    },
    {
      "cell_type": "code",
      "execution_count": 1,
      "id": "4c5ad5ac",
      "metadata": {
        "colab": {
          "base_uri": "https://localhost:8080/"
        },
        "id": "4c5ad5ac",
        "outputId": "704851de-1356-47c9-f8ef-0bee1fa87d0e"
      },
      "outputs": [
        {
          "output_type": "stream",
          "name": "stdout",
          "text": [
            "08-05-2022\n"
          ]
        }
      ],
      "source": [
        "import datetime\n",
        "# Code to Add current date to the today.txt file\n",
        "file = open('today.txt','w')\n",
        "file.write(datetime.datetime.now().strftime(\"%d-%m-%Y\"))\n",
        "file.close()\n",
        "# Code to Read current date from today.txt file\n",
        "file = open('today.txt','r')\n",
        "print(file.read())\n",
        "file.close()"
      ]
    },
    {
      "cell_type": "markdown",
      "id": "6cf23762",
      "metadata": {
        "id": "6cf23762"
      },
      "source": [
        "#### 2. Read the text file today.txt into the string today_string"
      ]
    },
    {
      "cell_type": "code",
      "execution_count": 2,
      "id": "107143ea",
      "metadata": {
        "colab": {
          "base_uri": "https://localhost:8080/"
        },
        "id": "107143ea",
        "outputId": "c1561296-ae7e-4f29-8de0-cbda08e9cc86"
      },
      "outputs": [
        {
          "output_type": "stream",
          "name": "stdout",
          "text": [
            "08-05-2022\n"
          ]
        }
      ],
      "source": [
        "file = open('today.txt','r')\n",
        "today_string = file.read()\n",
        "print(today_string)"
      ]
    },
    {
      "cell_type": "markdown",
      "id": "165addb6",
      "metadata": {
        "id": "165addb6"
      },
      "source": [
        "#### 3. Parse the date from today_string."
      ]
    },
    {
      "cell_type": "code",
      "execution_count": 3,
      "id": "c622da5b",
      "metadata": {
        "colab": {
          "base_uri": "https://localhost:8080/"
        },
        "id": "c622da5b",
        "outputId": "4c4c2602-00e8-4401-f2f1-9fa918905dd2"
      },
      "outputs": [
        {
          "output_type": "stream",
          "name": "stdout",
          "text": [
            "2022-05-08 00:00:00\n"
          ]
        }
      ],
      "source": [
        "from datetime import datetime\n",
        "parsed_data = datetime.strptime(today_string, '%d-%m-%Y')\n",
        "print(parsed_data)"
      ]
    },
    {
      "cell_type": "markdown",
      "id": "664d3278",
      "metadata": {
        "id": "664d3278"
      },
      "source": [
        "#### 4. List the files in your current directory"
      ]
    },
    {
      "cell_type": "code",
      "execution_count": 4,
      "id": "cbacd0e4",
      "metadata": {
        "colab": {
          "base_uri": "https://localhost:8080/"
        },
        "id": "cbacd0e4",
        "outputId": "a331ecf3-65a7-4073-f797-3bbeadc61340"
      },
      "outputs": [
        {
          "output_type": "stream",
          "name": "stdout",
          "text": [
            "today.txt\n",
            ".last_update_check.json\n",
            "active_config\n",
            ".metricsUUID\n",
            ".last_opt_in_prompt.yaml\n",
            ".feature_flags_config.yaml\n",
            ".last_survey_prompt.yaml\n",
            "gce\n",
            "config_sentinel\n",
            "13.41.59.446937.log\n",
            "13.41.39.801080.log\n",
            "13.42.27.306713.log\n",
            "13.42.06.910291.log\n",
            "13.42.28.055870.log\n",
            "13.41.17.129790.log\n",
            "config_default\n",
            "anscombe.json\n",
            "README.md\n",
            "mnist_test.csv\n",
            "mnist_train_small.csv\n",
            "california_housing_train.csv\n",
            "california_housing_test.csv\n"
          ]
        }
      ],
      "source": [
        "import os\n",
        "for folders, subfolders, files in os.walk(os.getcwd()):\n",
        "    for file in files:\n",
        "        print(file)"
      ]
    },
    {
      "cell_type": "markdown",
      "id": "291a203b",
      "metadata": {
        "id": "291a203b"
      },
      "source": [
        "#### 5. Create a list of all of the files in your parent directory (minimum five files should be available)."
      ]
    },
    {
      "cell_type": "code",
      "execution_count": 5,
      "id": "efe9618b",
      "metadata": {
        "colab": {
          "base_uri": "https://localhost:8080/"
        },
        "id": "efe9618b",
        "outputId": "5f7bc177-df02-43e1-e21c-8c7112c8caf8"
      },
      "outputs": [
        {
          "output_type": "execute_result",
          "data": {
            "text/plain": [
              "['.config', 'today.txt', 'sample_data']"
            ]
          },
          "metadata": {},
          "execution_count": 5
        }
      ],
      "source": [
        "import os \n",
        "os.listdir()"
      ]
    },
    {
      "cell_type": "markdown",
      "id": "203dd9fe",
      "metadata": {
        "id": "203dd9fe"
      },
      "source": [
        "#### 6. Use multiprocessing to create three separate processes. Make each one wait a random number of seconds between one and five, print the current time, and then exit."
      ]
    },
    {
      "cell_type": "code",
      "execution_count": 6,
      "id": "bcb2799b",
      "metadata": {
        "colab": {
          "base_uri": "https://localhost:8080/"
        },
        "id": "bcb2799b",
        "outputId": "1df88bf1-4cb2-4348-8ce3-2323c4d0d6da"
      },
      "outputs": [
        {
          "output_type": "stream",
          "name": "stdout",
          "text": [
            "Proc_one_Starttime -> 2022-05-08 05:34:54.746835\n",
            "Proc_two_Starttime -> 2022-05-08 05:34:54.756046\n",
            "Proc_two_Starttime -> 2022-05-08 05:34:54.771798\n",
            "Proc_two_Endtime -> 2022-05-08 05:34:55.777636\n",
            "Proc_two_Endtime -> 2022-05-08 05:34:56.764917\n",
            "Proc_one_Endtime -> 2022-05-08 05:34:57.764113\n"
          ]
        }
      ],
      "source": [
        "import multiprocessing\n",
        "import time \n",
        "import random\n",
        "import datetime\n",
        "\n",
        "def procOne():\n",
        "    print(f'Proc_one_Starttime -> {datetime.datetime.now()}')\n",
        "    time.sleep(random.randint(1,5))\n",
        "    print(f'Proc_one_Endtime -> {datetime.datetime.now()}')\n",
        "    \n",
        "def procTwo():\n",
        "    print(f'Proc_two_Starttime -> {datetime.datetime.now()}')\n",
        "    time.sleep(random.randint(1,5))\n",
        "    print(f'Proc_two_Endtime -> {datetime.datetime.now()}')\n",
        "\n",
        "def procThree():\n",
        "    print(f'Proc_two_Starttime -> {datetime.datetime.now()}')\n",
        "    time.sleep(random.randint(1,5))\n",
        "    print(f'Proc_two_Endtime -> {datetime.datetime.now()}')\n",
        "    \n",
        "if __name__ == \"__main__\":    \n",
        "    p1 = multiprocessing.Process(target=procOne)\n",
        "    p2 = multiprocessing.Process(target=procTwo)\n",
        "    p3 = multiprocessing.Process(target=procThree)\n",
        "\n",
        "    p1.start()\n",
        "    p2.start()\n",
        "    p3.start()\n",
        "\n",
        "    p1.join()\n",
        "    p2.join()\n",
        "    p3.join()"
      ]
    },
    {
      "cell_type": "markdown",
      "id": "71d07e78",
      "metadata": {
        "id": "71d07e78"
      },
      "source": [
        "#### 7. Create a date object of your day of birth."
      ]
    },
    {
      "cell_type": "code",
      "execution_count": 8,
      "id": "b3e67c1c",
      "metadata": {
        "colab": {
          "base_uri": "https://localhost:8080/"
        },
        "id": "b3e67c1c",
        "outputId": "6c6edbfd-5300-4117-87da-e3f814879aeb"
      },
      "outputs": [
        {
          "output_type": "stream",
          "name": "stdout",
          "text": [
            "1994-01-12 00:00:00 <class 'datetime.datetime'>\n"
          ]
        }
      ],
      "source": [
        "from datetime import datetime\n",
        "my_dob = datetime.strptime('12/01/1994','%d/%m/%Y')\n",
        "print(my_dob, type(my_dob))"
      ]
    },
    {
      "cell_type": "markdown",
      "id": "e5775db9",
      "metadata": {
        "id": "e5775db9"
      },
      "source": [
        "#### 8. What day of the week was your day of birth?"
      ]
    },
    {
      "cell_type": "code",
      "execution_count": 9,
      "id": "65b6ae43",
      "metadata": {
        "colab": {
          "base_uri": "https://localhost:8080/",
          "height": 35
        },
        "id": "65b6ae43",
        "outputId": "8d99f81b-c341-4afb-ed4a-8f5a5935066d"
      },
      "outputs": [
        {
          "output_type": "execute_result",
          "data": {
            "text/plain": [
              "'Wednesday'"
            ],
            "application/vnd.google.colaboratory.intrinsic+json": {
              "type": "string"
            }
          },
          "metadata": {},
          "execution_count": 9
        }
      ],
      "source": [
        "from datetime import datetime\n",
        "my_dob = datetime(1994,1,12)\n",
        "my_dob.strftime(\"%A\")"
      ]
    },
    {
      "cell_type": "markdown",
      "id": "abe779de",
      "metadata": {
        "id": "abe779de"
      },
      "source": [
        "#### 9. When will you be (or when were you) 10,000 days old?"
      ]
    },
    {
      "cell_type": "code",
      "execution_count": 10,
      "id": "db7e28a0",
      "metadata": {
        "colab": {
          "base_uri": "https://localhost:8080/"
        },
        "id": "db7e28a0",
        "outputId": "97a1c375-6d8b-455f-9fd0-bf34bde9ac2f"
      },
      "outputs": [
        {
          "output_type": "execute_result",
          "data": {
            "text/plain": [
              "datetime.datetime(1966, 8, 27, 0, 0)"
            ]
          },
          "metadata": {},
          "execution_count": 10
        }
      ],
      "source": [
        "from datetime import datetime, timedelta\n",
        "my_dob = datetime.strptime(\"12/01/1994\",'%d/%m/%Y')\n",
        "future_date = my_dob-timedelta(10000)\n",
        "future_date"
      ]
    }
  ],
  "metadata": {
    "kernelspec": {
      "display_name": "Python 3",
      "language": "python",
      "name": "python3"
    },
    "language_info": {
      "codemirror_mode": {
        "name": "ipython",
        "version": 3
      },
      "file_extension": ".py",
      "mimetype": "text/x-python",
      "name": "python",
      "nbconvert_exporter": "python",
      "pygments_lexer": "ipython3",
      "version": "3.8.8"
    },
    "colab": {
      "name": "Python Basics Assignment_21.ipynb",
      "provenance": []
    }
  },
  "nbformat": 4,
  "nbformat_minor": 5
}